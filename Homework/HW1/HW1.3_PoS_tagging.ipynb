{
  "cells": [
    {
      "cell_type": "markdown",
      "metadata": {
        "id": "SpCKO19dhHPq"
      },
      "source": [
        "# HW 3 - Neural POS Tagger\n",
        "\n",
        "In this exercise, you are going to build a set of deep learning models on part-of-speech (POS) tagging using Tensorflow 2. Tensorflow is a deep learning framwork developed by Google to provide an easier way to use standard layers and networks.\n",
        "\n",
        "To complete this exercise, you will need to build deep learning models for POS tagging in Thai using NECTEC's ORCHID corpus. You will build one model for each of the following type:\n",
        "\n",
        "- Neural POS Tagging with Word Embedding using Fixed / non-Fixed Pretrained weights\n",
        "- Neural POS Tagging with Viterbi / Marginal CRF\n",
        "\n",
        "Pretrained word embeddding are already given for you to use (albeit, a very bad one).\n",
        "\n",
        "We also provide the code for data cleaning, preprocessing and some starter code for tensorflow 2 in this notebook but feel free to modify those parts to suit your needs. Feel free to use additional libraries (e.g. scikit-learn) as long as you have a model for each type mentioned above.\n",
        "\n",
        "### Don't forget to change hardware accelrator to GPU in runtime on Google Colab ###"
      ]
    },
    {
      "cell_type": "markdown",
      "metadata": {
        "id": "Qx0YbM_8hHPt"
      },
      "source": [
        "## 1. Setup and Preprocessing"
      ]
    },
    {
      "cell_type": "markdown",
      "metadata": {
        "id": "yF3lPNNkhHPu"
      },
      "source": [
        "We use POS data from [ORCHID corpus](https://www.nectec.or.th/corpus/index.php?league=pm), which is a POS corpus for Thai language.\n",
        "A method used to read the corpus into a list of sentences with (word, POS) pairs have been implemented already. The example usage has shown below.\n",
        "We also create a word vector for unknown word by random."
      ]
    },
    {
      "cell_type": "code",
      "execution_count": null,
      "metadata": {
        "id": "rJpCbSvJhHPv"
      },
      "outputs": [],
      "source": [
        "import os    \n",
        "import numpy as np\n",
        "import numpy.random\n",
        "import tensorflow as tf\n",
        "import tensorflow_addons as tfa\n",
        "import pandas as pd\n",
        "\n",
        "from resources.embeddings.emb_reader import get_embeddings\n",
        "from IPython.display import display\n",
        "from resources.data.orchid_corpus import get_sentences\n",
        "from keras.models import Sequential, Model\n",
        "from keras.layers import Embedding, Reshape, Activation, Input, Dense,GRU,Reshape,TimeDistributed,Bidirectional,Dropout,Masking\n",
        "from keras.optimizers import Adam\n",
        "from keras import backend as K\n",
        "from tf2crf import CRF, ModelWithCRFLoss, ModelWithCRFLossDSCLoss                                                             \n",
        "from modelConfig import POSConfig\n",
        "from keras.callbacks import ModelCheckpoint, TensorBoard\n",
        "from keras.models import load_model\n",
        "from sklearn.model_selection import train_test_split\n",
        "\n",
        "np.random.seed(42)"
      ]
    },
    {
      "cell_type": "code",
      "execution_count": null,
      "metadata": {
        "id": "U4SZz56ThHP0",
        "scrolled": false
      },
      "outputs": [],
      "source": [
        "yunk_emb =np.random.randn(32)\n",
        "train_data = get_sentences('train')\n",
        "test_data = get_sentences('test')\n",
        "print(train_data[0])"
      ]
    },
    {
      "cell_type": "code",
      "execution_count": null,
      "metadata": {
        "id": "sQ_Wp-jRiHTE"
      },
      "outputs": [],
      "source": [
        "yunk_emb"
      ]
    },
    {
      "cell_type": "markdown",
      "metadata": {
        "id": "awxn_GRIhHP3"
      },
      "source": [
        "Next, we load pretrained weight embedding using pickle. The pretrained weight is a dictionary which map a word to its embedding."
      ]
    },
    {
      "cell_type": "code",
      "execution_count": null,
      "metadata": {
        "id": "0GS3lTZshHP4"
      },
      "outputs": [],
      "source": [
        "import pickle\n",
        "fp = open('resources/basic_ff_embedding.pt', 'rb')\n",
        "embeddings = pickle.load(fp)\n",
        "fp.close()"
      ]
    },
    {
      "cell_type": "code",
      "execution_count": null,
      "metadata": {
        "id": "33fe8_A5iNkb"
      },
      "outputs": [],
      "source": [
        "embeddings"
      ]
    },
    {
      "cell_type": "markdown",
      "metadata": {
        "id": "5CqTNKsChHP7"
      },
      "source": [
        "The given code below generates an indexed dataset(each word is represented by a number) for training and testing data. The index 0 is reserved for padding to help with variable length sequence. (Additionally, You can read more about padding here [https://machinelearningmastery.com/data-preparation-variable-length-input-sequences-sequence-prediction/])"
      ]
    },
    {
      "cell_type": "markdown",
      "metadata": {
        "id": "IPGUNEZyhHP8"
      },
      "source": [
        "## 2. Prepare Data"
      ]
    },
    {
      "cell_type": "code",
      "execution_count": null,
      "metadata": {
        "id": "7fMWn8qehHP9"
      },
      "outputs": [],
      "source": [
        "word_to_idx ={}\n",
        "idx_to_word ={}\n",
        "label_to_idx = {}\n",
        "for sentence in train_data:\n",
        "    for word,pos in sentence:\n",
        "        if word not in word_to_idx:\n",
        "            word_to_idx[word] = len(word_to_idx)+1\n",
        "            idx_to_word[word_to_idx[word]] = word\n",
        "        if pos not in label_to_idx:\n",
        "            label_to_idx[pos] = len(label_to_idx)+1\n",
        "word_to_idx['UNK'] = len(word_to_idx)\n",
        "\n",
        "n_classes = len(label_to_idx.keys())+1"
      ]
    },
    {
      "cell_type": "code",
      "execution_count": null,
      "metadata": {
        "id": "98R9Bf3jmAjh"
      },
      "outputs": [],
      "source": [
        "n_classes"
      ]
    },
    {
      "cell_type": "markdown",
      "metadata": {
        "id": "QgvZ8v_2hHP_"
      },
      "source": [
        "This section is tweaked a little from the demo, word2features will return word index instead of features, and sent2labels will return a sequence of word indices in the sentence."
      ]
    },
    {
      "cell_type": "code",
      "execution_count": null,
      "metadata": {
        "id": "ktf2KkJghHQA"
      },
      "outputs": [],
      "source": [
        "def word2features(sent, i, emb):\n",
        "    word = sent[i][0]\n",
        "    if word in word_to_idx :\n",
        "        return word_to_idx[word]\n",
        "    else :\n",
        "        return word_to_idx['UNK']\n",
        "\n",
        "def sent2features(sent, emb_dict):\n",
        "    return np.asarray([word2features(sent, i, emb_dict) for i in range(len(sent))])\n",
        "\n",
        "def sent2labels(sent):\n",
        "    return np.asarray([label_to_idx[label] for (word, label) in sent],dtype='int32')\n",
        "\n",
        "def sent2tokens(sent):\n",
        "    return [word for (word, label) in sent]"
      ]
    },
    {
      "cell_type": "code",
      "execution_count": null,
      "metadata": {
        "id": "cgBw3I9ShHQD"
      },
      "outputs": [],
      "source": [
        "sent2features(train_data[100], embeddings)"
      ]
    },
    {
      "cell_type": "markdown",
      "metadata": {
        "id": "3O7oClK-hHQG"
      },
      "source": [
        "Next we create train and test dataset, then we use tensorflow 2 to post-pad the sequence to max sequence with 0. Our labels are changed to a one-hot vector."
      ]
    },
    {
      "cell_type": "code",
      "execution_count": null,
      "metadata": {
        "id": "0tJxtPtohHQH"
      },
      "outputs": [],
      "source": [
        "# %%time\n",
        "# x_train = np.asarray([sent2features(sent, embeddings) for sent in train_data])\n",
        "# y_train = [sent2labels(sent) for sent in train_data]\n",
        "# x_test = [sent2features(sent, embeddings) for sent in test_data]\n",
        "# y_test = [sent2labels(sent) for sent in test_data]\n",
        "\n",
        "# We encounter an error in x_train so we modified it to this following code.\n",
        "\n",
        "x_train =  [sent2features(sent, embeddings) for sent in train_data]\n",
        "y_train =  [sent2labels(sent) for sent in train_data]\n",
        "x_test = [sent2features(sent, embeddings) for sent in test_data]\n",
        "y_test =  [sent2labels(sent) for sent in test_data]"
      ]
    },
    {
      "cell_type": "code",
      "execution_count": null,
      "metadata": {
        "id": "DG1gvJ4mhHQJ"
      },
      "outputs": [],
      "source": [
        "x_train=tf.keras.preprocessing.sequence.pad_sequences(x_train, maxlen=None, dtype='int32', padding='post', truncating='pre', value=0.)\n",
        "y_train_pad=tf.keras.preprocessing.sequence.pad_sequences(y_train, maxlen=None, dtype='int32', padding='post', truncating='pre', value=0.)\n",
        "x_test=tf.keras.preprocessing.sequence.pad_sequences(x_test, maxlen=102, dtype='int32', padding='post', truncating='pre', value=0.)\n",
        "y_test_pad=tf.keras.preprocessing.sequence.pad_sequences(y_test, maxlen=102, dtype='int32', padding='post', truncating='pre', value=0.)\n",
        "y_temp =[]\n",
        "for i in range(len(y_train_pad)):\n",
        "    y_temp.append(np.eye(n_classes)[y_train_pad[i]][np.newaxis,:])\n",
        "y_train = np.asarray(y_temp).reshape(-1,102,n_classes)\n",
        "del(y_temp)"
      ]
    },
    {
      "cell_type": "code",
      "execution_count": null,
      "metadata": {
        "id": "ZU9x6VdehHQM"
      },
      "outputs": [],
      "source": [
        "print(x_train[100],x_train.shape)\n",
        "print(y_train[100][3],y_train.shape)"
      ]
    },
    {
      "cell_type": "code",
      "execution_count": null,
      "metadata": {},
      "outputs": [],
      "source": [
        "print(x_test[100],x_test.shape)\n",
        "print(y_test[100])"
      ]
    },
    {
      "cell_type": "markdown",
      "metadata": {
        "id": "dx_c3-LwhHQP"
      },
      "source": [
        "## 3. Evaluate"
      ]
    },
    {
      "cell_type": "markdown",
      "metadata": {
        "id": "tvCW24orhHQP"
      },
      "source": [
        "Our output from tf keras is a distribution of problabilities on all possible label. outputToLabel will return an indices of maximum problability from output sequence.\n",
        "\n",
        "evaluation_report is the same as in the demo"
      ]
    },
    {
      "cell_type": "code",
      "execution_count": null,
      "metadata": {
        "id": "Iqgp2gd4hHQQ"
      },
      "outputs": [],
      "source": [
        "def outputToLabel(yt,seq_len):\n",
        "    out = []\n",
        "    for i in range(0,len(yt)):\n",
        "        if(i==seq_len):\n",
        "            break\n",
        "        out.append(np.argmax(yt[i]))\n",
        "    return out"
      ]
    },
    {
      "cell_type": "code",
      "execution_count": null,
      "metadata": {
        "id": "pzIL_rsAhHQT"
      },
      "outputs": [],
      "source": [
        "def evaluation_report(y_true, y_pred):\n",
        "    # retrieve all tags in y_true\n",
        "    tag_set = set()\n",
        "    for sent in y_true:\n",
        "        for tag in sent:\n",
        "            tag_set.add(tag)\n",
        "    for sent in y_pred:\n",
        "        for tag in sent:\n",
        "            tag_set.add(tag)\n",
        "    tag_list = sorted(list(tag_set))\n",
        "    \n",
        "    # count correct points\n",
        "    tag_info = dict()\n",
        "    for tag in tag_list:\n",
        "        tag_info[tag] = {'correct_tagged': 0, 'y_true': 0, 'y_pred': 0}\n",
        "\n",
        "    all_correct = 0\n",
        "    all_count = sum([len(sent) for sent in y_true])\n",
        "    for sent_true, sent_pred in zip(y_true, y_pred):\n",
        "        for tag_true, tag_pred in zip(sent_true, sent_pred):\n",
        "            if tag_true == tag_pred:\n",
        "                tag_info[tag_true]['correct_tagged'] += 1\n",
        "                all_correct += 1\n",
        "            tag_info[tag_true]['y_true'] += 1\n",
        "            tag_info[tag_pred]['y_pred'] += 1\n",
        "    accuracy = (all_correct / all_count) * 100\n",
        "            \n",
        "    # summarize and make evaluation result\n",
        "    eval_list = list()\n",
        "    for tag in tag_list:\n",
        "        eval_result = dict()\n",
        "        eval_result['tag'] = tag\n",
        "        eval_result['correct_count'] = tag_info[tag]['correct_tagged']\n",
        "        precision = (tag_info[tag]['correct_tagged']/tag_info[tag]['y_pred'])*100 if tag_info[tag]['y_pred'] else '-'\n",
        "        recall = (tag_info[tag]['correct_tagged']/tag_info[tag]['y_true'])*100 if (tag_info[tag]['y_true'] > 0) else 0\n",
        "        eval_result['precision'] = precision\n",
        "        eval_result['recall'] = recall\n",
        "        eval_result['f_score'] = (2*precision*recall)/(precision+recall) if (type(precision) is float and recall > 0) else '-'\n",
        "        \n",
        "        eval_list.append(eval_result)\n",
        "\n",
        "    eval_list.append({'tag': 'accuracy=%.2f' % accuracy, 'correct_count': '', 'precision': '', 'recall': '', 'f_score': ''})\n",
        "    \n",
        "    df = pd.DataFrame.from_dict(eval_list)\n",
        "    df = df[['tag', 'precision', 'recall', 'f_score', 'correct_count']]\n",
        "    display(df)\n",
        "    return df"
      ]
    },
    {
      "cell_type": "markdown",
      "metadata": {
        "id": "4YG-RiHdhHQV"
      },
      "source": [
        "## 4. Train a model"
      ]
    },
    {
      "cell_type": "markdown",
      "metadata": {
        "id": "U75Ivn2vhHQZ"
      },
      "source": [
        "The model is this section is separated to two groups\n",
        "\n",
        "- Neural POS Tagger (4.1)\n",
        "- Neural CRF POS Tagger (4.2)"
      ]
    },
    {
      "cell_type": "code",
      "execution_count": null,
      "metadata": {},
      "outputs": [],
      "source": [
        "def model_train(x_train,y_train,model,config,retrain=False):\n",
        "\n",
        "    sub_path = config.log_path + '/'+ model.name\n",
        "    model_path = sub_path + '/'+ model.name\n",
        "    log_dir = sub_path + '/Graph/ff'\n",
        "\n",
        "    callbacks_list = [   \n",
        "        TensorBoard(log_dir=log_dir, histogram_freq=1, write_graph=True, write_grads=False),\n",
        "        ModelCheckpoint(\n",
        "            model_path,\n",
        "            save_best_only=True,\n",
        "            save_weights_only=True,\n",
        "            monitor=config.monitor,\n",
        "            mode='min',\n",
        "            verbose=1\n",
        "        )]\n",
        "    \n",
        "    x, x_val, y, y_val = train_test_split(x_train, y_train, test_size=0.2, random_state=42)\n",
        "    \n",
        "    if os.path.exists(model_path) and retrain:\n",
        "        print(f'Model({model.name}) already exists. Loading model from file')\n",
        "        print('Proceeding to retrain model')\n",
        "        his = model.fit(x,y=y, batch_size=config.batch_size,epochs=config.epochs,verbose=1,callbacks=callbacks_list,validation_data=(x_val,y_val))\n",
        "    elif os.path.exists(model_path) and not retrain:\n",
        "        print(f'Model({model.name}) already exists. Loading model from file')\n",
        "        return None\n",
        "    else:\n",
        "        print(f'Model({model.name}) does not exist. Training new model')\n",
        "        his = model.fit(x,y=y, batch_size=config.batch_size,epochs=config.epochs,verbose=1,callbacks=callbacks_list,validation_data=(x_val,y_val))\n",
        "        print('Model trained')\n",
        "\n",
        "    model.save(model_path)\n",
        "    return his"
      ]
    },
    {
      "attachments": {},
      "cell_type": "markdown",
      "metadata": {},
      "source": [
        "## Prediction Function"
      ]
    },
    {
      "attachments": {},
      "cell_type": "markdown",
      "metadata": {},
      "source": [
        "To get y_pred from the model."
      ]
    },
    {
      "cell_type": "code",
      "execution_count": null,
      "metadata": {},
      "outputs": [],
      "source": [
        "def get_y_pred(model,x_test):\n",
        "    y_temp = model.predict(x_test)\n",
        "    y_pred = []\n",
        "    for data in y_temp:\n",
        "        temp = np.array([])\n",
        "        for tag in data:\n",
        "            if tag == 0:\n",
        "                break\n",
        "            temp = np.append(temp,tag)\n",
        "        y_pred.append(temp)\n",
        "    return y_pred"
      ]
    },
    {
      "attachments": {},
      "cell_type": "markdown",
      "metadata": {},
      "source": [
        "## Get Wrong Prediction Function"
      ]
    },
    {
      "attachments": {},
      "cell_type": "markdown",
      "metadata": {},
      "source": [
        "To get wrong prediction word from y_pred."
      ]
    },
    {
      "cell_type": "code",
      "execution_count": null,
      "metadata": {},
      "outputs": [],
      "source": [
        "# # get wrong prediction\n",
        "\n",
        "# def get_wrong_pred(y_true,y_pred):\n",
        "#     wrong_pred = []\n",
        "#     for i in range(len(y_true)):\n",
        "#         if y_true[i] != y_pred[i]:\n",
        "#             wrong_pred.append(i)\n",
        "#     return wrong_pred"
      ]
    },
    {
      "attachments": {},
      "cell_type": "markdown",
      "metadata": {},
      "source": [
        "To get wrong word prediction from y_pred."
      ]
    },
    {
      "cell_type": "markdown",
      "metadata": {
        "id": "CLwL3B7rhHQZ"
      },
      "source": [
        "## 4.1 Neural POS Tagger  (Example)"
      ]
    },
    {
      "cell_type": "markdown",
      "metadata": {
        "id": "pVoB-1XVhHQa"
      },
      "source": [
        "We create a simple Neural POS Tagger as an example for you. This model dosen't use any pretrained word embbeding so it need to use Embedding layer to train the word embedding from scratch.\n",
        "\n",
        "Instead of using tensorflow.keras.models.Sequential, we use tensorflow.keras.models.Model. The latter is better as it can have multiple input/output, of which Sequential model could not. Due to this reason, the Model class is widely used for building a complex deep learning model."
      ]
    },
    {
      "cell_type": "code",
      "execution_count": null,
      "metadata": {},
      "outputs": [],
      "source": [
        "print(f'x_train shape: {x_train.shape} and y_train shape: {y_train_pad.shape}')\n",
        "print(f'x_test shape: {x_test.shape} and y_test shape: {y_test_pad.shape}')\n",
        "print(f'Number of classes: {n_classes}')\n",
        "print(f'Number of words: {len(word_to_idx)}')\n",
        "print(f'Example of x_train: {x_train[0]}')\n",
        "print(f'Example of y_train: {y_train_pad[0]}')\n",
        "print(f'Example of x_test: {x_test[0]}')\n",
        "print(f'Example of y_test: {y_test_pad[0]}')"
      ]
    },
    {
      "cell_type": "code",
      "execution_count": null,
      "metadata": {},
      "outputs": [],
      "source": [
        "def NPOSmodel(name='NeuralPOSTagger'):\n",
        "    inputs = Input(shape=(102,), dtype='int32')\n",
        "    output = (Embedding(len(word_to_idx),32,input_length=102,mask_zero=True))(inputs)\n",
        "    output = Bidirectional(GRU(32, return_sequences=True))(output)\n",
        "    output = Dropout(0.2)(output)\n",
        "    output = TimeDistributed(Dense(n_classes,activation='softmax'))(output)\n",
        "    model = Model(inputs, output, name=name)\n",
        "    model.compile(optimizer=Adam(learning_rate=0.001),  loss='categorical_crossentropy', metrics=['categorical_accuracy'])\n",
        "    model.summary()\n",
        "    return model"
      ]
    },
    {
      "cell_type": "code",
      "execution_count": null,
      "metadata": {},
      "outputs": [],
      "source": [
        "K.clear_session()\n",
        "\n",
        "npos_model = NPOSmodel()\n",
        "config = POSConfig()\n",
        "config.monitor = 'val_loss'\n",
        "\n",
        "his_npos = model_train(x_train,y_train,npos_model,config,retrain=False)"
      ]
    },
    {
      "cell_type": "markdown",
      "metadata": {},
      "source": [
        "### **Load Model**"
      ]
    },
    {
      "cell_type": "code",
      "execution_count": null,
      "metadata": {},
      "outputs": [],
      "source": [
        "npos_model = load_model(\"tf_logs/POS/NeuralPOSTagger/NeuralPOSTagger\")"
      ]
    },
    {
      "attachments": {},
      "cell_type": "markdown",
      "metadata": {},
      "source": [
        "### **Model Prediction**"
      ]
    },
    {
      "cell_type": "code",
      "execution_count": null,
      "metadata": {
        "id": "yusa214hhHQh"
      },
      "outputs": [],
      "source": [
        "y_pred= npos_model.predict(x_test)\n",
        "ypred = [outputToLabel(y_pred[i],len(y_test[i])) for i in range(len(y_pred))]\n",
        "df_npos = evaluation_report(y_test, ypred)               "
      ]
    },
    {
      "cell_type": "code",
      "execution_count": null,
      "metadata": {},
      "outputs": [],
      "source": [
        "print(f'x_train shape: {x_train.shape} and y_train shape: {y_train.shape}')\n",
        "print(f'x_test shape: {x_test.shape} and y_test shape: ({len(y_test)},{len(y_test[0])})')"
      ]
    },
    {
      "cell_type": "markdown",
      "metadata": {},
      "source": [
        "### **TensorBoard Observation**"
      ]
    },
    {
      "cell_type": "code",
      "execution_count": null,
      "metadata": {},
      "outputs": [],
      "source": [
        "# %load_ext tensorboard\n",
        "# %tensorboard --logdir='tf_logs'"
      ]
    },
    {
      "cell_type": "markdown",
      "metadata": {
        "id": "H0NKka14hHQw"
      },
      "source": [
        "## 4.2 CRF Viterbi"
      ]
    },
    {
      "cell_type": "markdown",
      "metadata": {
        "id": "ijd1rwTghHQx"
      },
      "source": [
        "Your next task is to incorporate Conditional random fields (CRF) to your model.\n",
        "\n",
        "To use the CRF layer, you need to use an extension repository for tensorflow library, call tf2crf. If you want to see the detailed implementation, you should read the official tensorflow extention of CRF (https://www.tensorflow.org/addons/api_docs/python/tfa/text).\n",
        "\n",
        "tf2crf link :  https://github.com/xuxingya/tf2crf\n",
        "\n",
        "For inference, you should look at crf.py at the method call and view the input/output argmunets. \n",
        "Link : https://github.com/xuxingya/tf2crf/blob/master/tf2crf/crf.py\n",
        "\n"
      ]
    },
    {
      "cell_type": "markdown",
      "metadata": {
        "id": "KuybajePhHQy"
      },
      "source": [
        "### 4.2.1 CRF without pretrained weight\n",
        "### #TODO 1\n",
        "Incoperate CRF layer to your model in 4.1. CRF is quite complex compare to previous example model, so you should train it with more epoch, so it can converge.\n",
        "\n",
        "To finish this excercise you must train the model and show the evaluation report with this model as shown in the example.\n",
        "\n",
        "Do not forget to save this model weight."
      ]
    },
    {
      "cell_type": "code",
      "execution_count": null,
      "metadata": {
        "id": "lEV0q1vAhHQy"
      },
      "outputs": [],
      "source": [
        "# INSERT YOUR CODE HERE\n",
        "def PosTagwithCRF(name='POSTaggerwithCRF'):\n",
        "    inputs = Input(shape=(102,), dtype='int32', name='inputLayer')\n",
        "    output = (Embedding(len(word_to_idx),32,input_length=102,mask_zero=True,name='EmbeddingLayer'))(inputs)\n",
        "    output = Bidirectional(GRU(32, return_sequences=True),name=\"BidirectionalLayer\")(output)\n",
        "    output = Dropout(0.2,name=\"DropoutLayer\")(output)\n",
        "    output = TimeDistributed(Dense(n_classes,activation='softmax'),name=\"TimeDistributedLayer\")(output)\n",
        "    \n",
        "    crf = CRF(n_classes, dtype='float32',name=\"CRFLayer\")\n",
        "    output = crf(output)\n",
        "    base_model = Model(inputs, output, name=name)\n",
        "    model = ModelWithCRFLoss(base_model, sparse_target=True)\n",
        "    model.compile(optimizer=Adam(learning_rate=0.001))\n",
        "    model._name = name\n",
        "    return model"
      ]
    },
    {
      "cell_type": "code",
      "execution_count": null,
      "metadata": {},
      "outputs": [],
      "source": [
        "K.clear_session()\n",
        "\n",
        "model_POS_CRF = PosTagwithCRF()\n",
        "\n",
        "his_pos_crf = model_train(x_train,y_train_pad,model_POS_CRF,POSConfig(),retrain=False)"
      ]
    },
    {
      "cell_type": "markdown",
      "metadata": {},
      "source": [
        "### **TensorBoard Observation**"
      ]
    },
    {
      "cell_type": "code",
      "execution_count": null,
      "metadata": {},
      "outputs": [],
      "source": [
        "# %load_ext tensorboard\n",
        "# %tensorboard --logdir='tf_logs'"
      ]
    },
    {
      "attachments": {
        "image.png": {
          "image/png": "[encoded data removed]"
        }
      },
      "cell_type": "markdown",
      "metadata": {},
      "source": [
        "![image.png](attachment:image.png)"
      ]
    },
    {
      "attachments": {
        "image-2.png": {
          "image/png": "[encoded data removed]"
        }
      },
      "cell_type": "markdown",
      "metadata": {},
      "source": [
        "![image.png](attachment:image-2.png)"
      ]
    },
    {
      "attachments": {},
      "cell_type": "markdown",
      "metadata": {},
      "source": [
        "จากผลลัพธ์ที่ได้จาก tensorboard ของการทำ PoS with CRF พบว่าค่า loss ที่ 60 epoches มีลักษณะเข้าใกล้ค่าคงที่เเล้ว เเละกราฟ loss ของ train กับ validate มีความคล้ายคลึงกัน คือลดลงเเละไม่เพิ่มขึ้น แสดงว่า model นี้เป็น Good Fitting (Ref. https://machinelearningmastery.com/learning-curves-for-diagnosing-machine-learning-model-performance/)"
      ]
    },
    {
      "attachments": {},
      "cell_type": "markdown",
      "metadata": {},
      "source": [
        "### **Load Model**"
      ]
    },
    {
      "cell_type": "code",
      "execution_count": null,
      "metadata": {},
      "outputs": [],
      "source": [
        "his_pos_crf = load_model(\"tf_logs/POS/POSTaggerwithCRF/POSTaggerwithCRF\")"
      ]
    },
    {
      "attachments": {},
      "cell_type": "markdown",
      "metadata": {},
      "source": [
        "### **Model Prediction**"
      ]
    },
    {
      "cell_type": "code",
      "execution_count": null,
      "metadata": {},
      "outputs": [],
      "source": [
        "his_pos_crf_pred = get_y_pred(his_pos_crf,x_test)\n",
        "df_his_pos_crf = evaluation_report(y_test, his_pos_crf_pred)"
      ]
    },
    {
      "cell_type": "markdown",
      "metadata": {
        "id": "qOnHO-__kj7T"
      },
      "source": [
        "\n",
        "### 4.2.2 CRF with pretrained weight\n",
        "\n",
        "### #TODO 2\n",
        "\n",
        "We would like you create a neural CRF POS tagger model  with the pretrained word embedding as an input and the word embedding is trainable (not fixed). To finish this excercise you must train the model and show the evaluation report with this model as shown in the example.\n",
        "\n",
        "Please note that the given pretrained word embedding only have weights for the vocabuary in BEST corpus.\n",
        "\n",
        "You can read more information about using predtained weight in embedding layer on Keras from the following link:\n",
        "\n",
        "https://keras.io/examples/nlp/pretrained_word_embeddings/\n",
        "\n",
        "Optionally, you can use your own pretrained word embedding.\n",
        "\n",
        "#### Hint: You can get the embedding from get_embeddings function from embeddings/emb_reader.py . \n",
        "\n",
        "(You may want to read about Tensorflow Masking layer and Trainable parameter)"
      ]
    },
    {
      "cell_type": "code",
      "execution_count": null,
      "metadata": {},
      "outputs": [],
      "source": [
        "embeddings_polyglot = get_embeddings()\n",
        "\n",
        "fp = open('resources/basic_ff_embedding.pt', 'rb')\n",
        "embeddings_basic_ff = pickle.load(fp)\n",
        "fp.close()\n",
        "\n",
        "print(f'Embeddings Polyglot word : {len(embeddings_polyglot)} vectors of size {len(embeddings_polyglot[list(embeddings_polyglot.keys())[0]])}')\n",
        "print(f'Embeddings Basic FF word : {len(embeddings_basic_ff)} vectors of size {len(embeddings_basic_ff[list(embeddings_basic_ff.keys())[0]])}')"
      ]
    },
    {
      "cell_type": "code",
      "execution_count": null,
      "metadata": {},
      "outputs": [],
      "source": [
        "# Prepare embedding matrix\n",
        "num_words = len(word_to_idx) + 2\n",
        "\"\"\"The num_tokens variable is set to len(word_to_idx) + 2 because the Keras Embedding layer requires two additional tokens that are reserved for special purposes. These are:\n",
        "\n",
        "The 0 index, which is reserved for padding, i.e., when sequences of different lengths are padded to have the same length.\n",
        "The 1 index, which is reserved for representing words that are out-of-vocabulary (OOV), i.e., words that are not found in the pre-trained embeddings.\n",
        "\n",
        "Therefore, num_tokens is set to the length of the vocabulary (len(word_to_idx)) plus 2 to account for these additional tokens. This ensures that the Embedding layer has the correct number of input dimensions to handle the special tokens as well as the vocabulary words.\"\"\"\n",
        "embedding_dim = 32\n",
        "hits = 0\n",
        "misses = 0\n",
        "\n",
        "embedding_matrix = np.zeros((num_words, embedding_dim))\n",
        "for word, i in word_to_idx.items():\n",
        "    embedding_vector = embeddings_basic_ff.get(word)\n",
        "    if embedding_vector is not None:\n",
        "        # Words not found in embedding index will be all-zeros.\n",
        "        # This includes the representation for \"padding\" and \"OOV\"\n",
        "        embedding_matrix[i] = embedding_vector\n",
        "        hits += 1\n",
        "    else:\n",
        "        misses += 1\n",
        "print(\"Converted %d words (%d misses)\" % (hits, misses))"
      ]
    },
    {
      "cell_type": "code",
      "execution_count": null,
      "metadata": {},
      "outputs": [],
      "source": [
        "\"\"\"In the code you provided, the hits and misses variables are used to keep track of the number of words in the vocabulary that have a pre-trained embedding and the number of words that don't have a pre-trained embedding, respectively.\n",
        "\n",
        "The code is iterating through each word in the vocabulary (voc), and for each word, it is checking if there is a pre-trained embedding vector for that word in the embeddings_index dictionary. If there is a pre-trained embedding vector, then the code copies that vector into the embedding_matrix array at the index corresponding to the current word. In this case, the hits counter is incremented by one, indicating that a pre-trained embedding was found for the current word.\n",
        "\n",
        "On the other hand, if there is no pre-trained embedding vector for the current word, the code skips that word and the corresponding row in embedding_matrix is left with all zeros. In this case, the misses counter is incremented by one, indicating that no pre-trained embedding was found for the current word.\n",
        "\n",
        "At the end of the loop, the code prints out the number of words for which a pre-trained embedding was found (hits) and the number of words for which no pre-trained embedding was found (misses). This provides some insight into the coverage of the pre-trained embeddings on the vocabulary used in the current model.\"\"\"\n",
        "pass"
      ]
    },
    {
      "cell_type": "code",
      "execution_count": null,
      "metadata": {
        "id": "KVBAv3a9kanH"
      },
      "outputs": [],
      "source": [
        "# INSERT YOUR CODE HERE\n",
        "def PosTagwithCRFPretainweight(name='POSTaggerwithCRFPretainweight',embedding_matrix=None):\n",
        "    inputs = Input(shape=(102,), dtype='int32', name='inputLayer')\n",
        "    if embedding_matrix is not None:\n",
        "        output = (Embedding(num_words,\n",
        "                            embedding_dim,\n",
        "                            input_length=102,\n",
        "                            mask_zero=True,\n",
        "                            weights=[embedding_matrix],\n",
        "                            trainable=False,\n",
        "                            name='EmbeddingLayer'))(inputs)\n",
        "    else:\n",
        "        output = (Embedding(len(word_to_idx),embedding_dim,input_length=102,mask_zero=True,name='EmbeddingLayer'))(inputs)\n",
        "    output = Bidirectional(GRU(32, return_sequences=True),name=\"BidirectionalLayer\")(output)\n",
        "    output = Dropout(0.2,name=\"DropoutLayer\")(output)\n",
        "    output = TimeDistributed(Dense(n_classes,activation='softmax'),name=\"TimeDistributedLayer\")(output)\n",
        "    \n",
        "    crf = CRF(n_classes, dtype='float32',name=\"CRFLayer\")\n",
        "    output = crf(output)\n",
        "    base_model = Model(inputs, output, name=name)\n",
        "\n",
        "    model = ModelWithCRFLoss(base_model, sparse_target=True)\n",
        "    model.compile(optimizer=Adam(learning_rate=0.001))\n",
        "    model.build(input_shape=(None,102))\n",
        "    model._name = name\n",
        "    return model"
      ]
    },
    {
      "cell_type": "code",
      "execution_count": null,
      "metadata": {},
      "outputs": [],
      "source": [
        "K.clear_session()\n",
        "\n",
        "model_POS_CRF_Pretainweight = PosTagwithCRFPretainweight(name='POSTaggerwithCRFPretainweight',embedding_matrix=embedding_matrix)\n",
        "\n",
        "his_pos_crf_pre =  model_train(x_train,y_train_pad,model_POS_CRF_Pretainweight,POSConfig(),retrain=False)"
      ]
    },
    {
      "attachments": {},
      "cell_type": "markdown",
      "metadata": {},
      "source": [
        "### **TensorBoard Observation**"
      ]
    },
    {
      "cell_type": "code",
      "execution_count": null,
      "metadata": {},
      "outputs": [],
      "source": [
        "# %load_ext tensorboard\n",
        "# %tensorboard --logdir='tf_logs'"
      ]
    },
    {
      "attachments": {
        "image.png": {
          "image/png": "[encoded data removed]"
        }
      },
      "cell_type": "markdown",
      "metadata": {},
      "source": [
        "![image.png](attachment:image.png)"
      ]
    },
    {
      "attachments": {
        "image.png": {
          "image/png": "[encoded data removed]"
        }
      },
      "cell_type": "markdown",
      "metadata": {},
      "source": [
        "![image.png](attachment:image.png)"
      ]
    },
    {
      "attachments": {},
      "cell_type": "markdown",
      "metadata": {},
      "source": [
        "จากผลลัพธ์ที่ได้จาก tensorboard ของการทำ pretrained weights พบว่าค่า loss ที่ 60 epoches มีลักษณะเข้าใกล้ค่าคงที่เเล้ว เเละกราฟ loss ของ train กับ validate มีความคล้ายคลึงกัน คือลดลงเเละไม่เพิ่มขึ้น แสดงว่า model นี้เป็น Good Fitting (Ref. https://machinelearningmastery.com/learning-curves-for-diagnosing-machine-learning-model-performance/)"
      ]
    },
    {
      "cell_type": "markdown",
      "metadata": {},
      "source": [
        "### **Load Model**"
      ]
    },
    {
      "cell_type": "code",
      "execution_count": null,
      "metadata": {},
      "outputs": [],
      "source": [
        "his_pos_crf_pre = load_model(\"tf_logs/POS/POSTaggerwithCRFPretainweight/POSTaggerwithCRFPretainweight\")"
      ]
    },
    {
      "cell_type": "markdown",
      "metadata": {},
      "source": [
        "### **Model Prediction**"
      ]
    },
    {
      "cell_type": "code",
      "execution_count": null,
      "metadata": {},
      "outputs": [],
      "source": [
        "his_pos_crf_pre_pred = get_y_pred(his_pos_crf_pre,x_test)\n",
        "df_his_pos_crf_pre = evaluation_report(y_test, his_pos_crf_pre_pred)"
      ]
    },
    {
      "cell_type": "markdown",
      "metadata": {
        "id": "BYX749sbkzA-"
      },
      "source": [
        "### #TODO 3\n",
        "Compare the result between all neural tagger models in 4.1 and 4.2.x and provide a convincing reason and example for the result of these models (which model perform better, why?)\n",
        "\n",
        "(If you use your own weight please state so in the answer)"
      ]
    },
    {
      "cell_type": "markdown",
      "metadata": {
        "id": "QJKtOsoRhHQv"
      },
      "source": [
        "<b>Write your answer here :</b>"
      ]
    },
    {
      "cell_type": "code",
      "execution_count": null,
      "metadata": {},
      "outputs": [],
      "source": [
        "# Map tage to tag name\n",
        "tagname = label_to_idx.keys()\n",
        "temp = []\n",
        "for key in tagname:\n",
        "    dicttemp = {}\n",
        "    dicttemp[key] = label_to_idx[key]\n",
        "    temp.append(dicttemp)\n",
        "# Reverse the dictionary\n",
        "tagname = {v: k for d in temp for k, v in d.items()}\n",
        "print(tagname)\n",
        "df_npos['tag_name'] = df_npos['tag'].map(tagname)\n",
        "df_npos = df_npos[['tag','tag_name', 'precision', 'recall', 'f_score', 'correct_count']]"
      ]
    },
    {
      "cell_type": "code",
      "execution_count": null,
      "metadata": {},
      "outputs": [],
      "source": [
        "df_his_pos_crf = df_his_pos_crf.drop(['tag'],axis=1)\n",
        "df_his_pos_crf_pre = df_his_pos_crf_pre.drop(['tag'],axis=1)\n",
        "\n",
        "df_mixed = pd.concat([df_npos,df_his_pos_crf,df_his_pos_crf_pre], axis=1)"
      ]
    },
    {
      "cell_type": "code",
      "execution_count": null,
      "metadata": {},
      "outputs": [],
      "source": [
        "df_mixed"
      ]
    },
    {
      "attachments": {},
      "cell_type": "markdown",
      "metadata": {},
      "source": [
        "- CFQC : NOUN (Frequency classifier)\n",
        "- DONM : ADJ (Ordinal number expression)\n",
        "- NCNM : NUM (Cardinal number)\n",
        "- CNIT : NOUN (Unit classifier)\n",
        "- NPRP : PROPN (Proper noun)\n",
        "- DIBQ : Indefinite determiner (บาง, ประมาณ, เกือบ)\n",
        "- VATT : ADJ (Attributive verb)\n",
        "- DCNM : NUM (Determiner, Cardinal number expression)\n",
        "- CMTR : NOUN (Measurement classifier)\n",
        "- FIXV : PART (Adverbial prefix)\n",
        "- PPRS : PRON (Personal pronoun)\n",
        "- CLTV : NOUN (Collective classifier)\n",
        "- ADVP : ADV (Adverb with prefixed form)\n",
        "- NLBL : NUM (Label noun)\n",
        "- ADVI : ADV (Adverb with iterative form)\n",
        "- JCMP : SCONJ (Comparative conjunction)\n",
        "- ADVS : ADV (Sentential adverb)\n",
        "- PNTR : PRON (Interrogative pronoun)\n",
        "- EITT : PART (Ending for interrogative sentence)\n",
        "- DDAQ : DET (Definite determiner)\n",
        "- NONM : ADJ (Ordinal number)\n",
        "- EAFF : PART (Ending for affirmative sentence)\n",
        "- DIAQ : DET (Indefinite determiner)"
      ]
    },
    {
      "cell_type": "code",
      "execution_count": null,
      "metadata": {},
      "outputs": [],
      "source": [
        "# get wrong prediction\n",
        "\n",
        "def get_wrong_pred(x_true,y_true,y_pred,y_pred1,y_pred2):\n",
        "    \n",
        "    # remove padding\n",
        "    x_true_new = []\n",
        "    for i in range(len(x_true)):\n",
        "        data = x_true[i]\n",
        "        temp = []\n",
        "        for j in range(len(data)):\n",
        "            if data[j] != 0:\n",
        "                temp.append(data[j])\n",
        "        x_true_new.append(temp)\n",
        "                \n",
        "    wrong_pred = []\n",
        "    for i in range(len(y_true)):\n",
        "        tempdict = {}\n",
        "        if not np.array_equal(y_true[i],y_pred[i]) or not np.array_equal(y_true[i],y_pred1[i]) or not np.array_equal(y_true[i],y_pred2[i]):\n",
        "            tempdict['index'] = i\n",
        "            tempdict['sentence'] = x_true_new[i]\n",
        "            tempdict['true'] = y_true[i]\n",
        "            tempdict['npos'] = y_pred[i]\n",
        "            tempdict['crf'] = y_pred1[i]\n",
        "            tempdict['crfwpret'] = y_pred2[i]\n",
        "            wrong_pred.append(tempdict)\n",
        "    return wrong_pred\n",
        "\n",
        "def idx_to_word(idx):\n",
        "    for word, index in word_to_idx.items(): \n",
        "        if index == idx: \n",
        "            return word\n",
        "    return None\n",
        "\n",
        "def idx_to_label(idx):\n",
        "    for label, index in label_to_idx.items(): \n",
        "        if index == idx:\n",
        "            return label\n",
        "    return None\n",
        "\n",
        "def decode_wrong_pred(wrong_pred):\n",
        "    temp = []\n",
        "    for i in range(len(wrong_pred)):\n",
        "        tempdict = {}\n",
        "        tempdict['index'] = wrong_pred[i]['index']\n",
        "        tempdict['sentence'] = [idx_to_word(idx) for idx in wrong_pred[i]['sentence']]\n",
        "        tempdict['true'] = [idx_to_label(idx) for idx in wrong_pred[i]['true']]\n",
        "        tempdict['npos'] = [idx_to_label(idx) for idx in wrong_pred[i]['npos']]\n",
        "        tempdict['crf'] = [idx_to_label(idx) for idx in wrong_pred[i]['crf']]\n",
        "        tempdict['crfwpret'] = [idx_to_label(idx) for idx in wrong_pred[i]['crfwpret']]\n",
        "        temp.append(tempdict)\n",
        "    return temp\n",
        "\n",
        "def random_print_sample(wrong_pred, random_unit=1000):\n",
        "    for i in range(random_unit):\n",
        "        random_index = np.random.randint(0,len(wrong_pred))\n",
        "        temp_sentence = '/'.join(wrong_pred[random_index]['sentence'])\n",
        "        temp_true = '/'.join(wrong_pred[random_index]['true'])\n",
        "        temp_npos = '/'.join(wrong_pred[random_index]['npos'])\n",
        "        temp_crf = '/'.join(wrong_pred[random_index]['crf'])\n",
        "        temp_crfwpret = '/'.join(wrong_pred[random_index]['crfwpret'])\n",
        "        print(f'sentence: {temp_sentence}')\n",
        "        print(f'true: {temp_true}')\n",
        "        print(f'npos: {temp_npos}')\n",
        "        print(f'crf: {temp_crf}')\n",
        "        print(f'crfwpret: {temp_crfwpret}')\n",
        "        print('======================================================================')"
      ]
    },
    {
      "cell_type": "code",
      "execution_count": null,
      "metadata": {},
      "outputs": [],
      "source": [
        "wrong_pred = get_wrong_pred(x_test, y_test, ypred, his_pos_crf_pred, his_pos_crf_pre_pred)\n",
        "print(wrong_pred[1])"
      ]
    },
    {
      "cell_type": "code",
      "execution_count": null,
      "metadata": {},
      "outputs": [],
      "source": [
        "output_wrong = decode_wrong_pred(wrong_pred)"
      ]
    },
    {
      "cell_type": "code",
      "execution_count": null,
      "metadata": {},
      "outputs": [],
      "source": [
        "random_print_sample(output_wrong, 100)"
      ]
    },
    {
      "attachments": {},
      "cell_type": "markdown",
      "metadata": {},
      "source": [
        "- Model Accuracy : NPoS(91.81) > PoSWithCRF No Pretrain(86.56) > PoSWithCRF With Pretrain(86.31) (60 Epoches)\n",
        "- สาเหตุที่ PoS With CRF ที่ทำการ Pretrain weight เเล้ว มีความเเม่นยำน้อยกว่าเเบบไม่ได้ Pretrain weight เนื่องจาก *** มี hits 5158 คำ เเละ misses ทั้งหมด 9861 คำ"
      ]
    }
  ],
  "metadata": {
    "colab": {
      "collapsed_sections": [
        "Qx0YbM_8hHPt",
        "IPGUNEZyhHP8",
        "dx_c3-LwhHQP",
        "4YG-RiHdhHQV",
        "CLwL3B7rhHQZ",
        "H0NKka14hHQw"
      ],
      "provenance": []
    },
    "kernelspec": {
      "display_name": "tf",
      "language": "python",
      "name": "python3"
    },
    "language_info": {
      "codemirror_mode": {
        "name": "ipython",
        "version": 3
      },
      "file_extension": ".py",
      "mimetype": "text/x-python",
      "name": "python",
      "nbconvert_exporter": "python",
      "pygments_lexer": "ipython3",
      "version": "3.9.16"
    },
    "vscode": {
      "interpreter": {
        "hash": "cdd3dce70e85e9270b3ff5d89c7a09977c10cb76c71c7f8d33b6e7a990aa3628"
      }
    }
  },
  "nbformat": 4,
  "nbformat_minor": 0
}
