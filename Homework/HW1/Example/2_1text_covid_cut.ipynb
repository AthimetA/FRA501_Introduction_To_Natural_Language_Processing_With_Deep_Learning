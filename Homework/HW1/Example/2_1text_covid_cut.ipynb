{
  "cells": [
    {
      "cell_type": "markdown",
      "metadata": {
        "id": "VEghZooHSBeY"
      },
      "source": [
        "# TEST Tokenization and Segmentation\n",
        "\n",
        "\n",
        "https://bigdata.go.th/big-data-101/data-science/tf-idf-2/"
      ]
    },
    {
      "cell_type": "markdown",
      "metadata": {
        "id": "6sfp857ScOFf"
      },
      "source": [
        "ข้อมูลของเรา"
      ]
    },
    {
      "cell_type": "code",
      "execution_count": 1,
      "metadata": {
        "id": "UgnQG0_2gUXF"
      },
      "outputs": [],
      "source": [
        "# %%capture\n",
        "# # dev version\n",
        "# !pip install https://github.com/PyThaiNLP/pythainlp/archive/dev.zip\n",
        "\n",
        "# # release version \n",
        "# ! pip install pythainlp\n",
        "\n",
        "# !pip install epitran\n",
        "# !pip install sklearn_crfsuite\n",
        "# !pip install tensorflow deepcut\n",
        "# !pip install attacut\n",
        "# !pip install emoji"
      ]
    },
    {
      "cell_type": "markdown",
      "metadata": {
        "id": "L4w-Cu5OhQF9"
      },
      "source": [
        "#ตัวอย่าง ๆ"
      ]
    },
    {
      "cell_type": "code",
      "execution_count": 2,
      "metadata": {
        "colab": {
          "base_uri": "https://localhost:8080/",
          "height": 373
        },
        "id": "CanJOM-qUMwf",
        "outputId": "b277ea94-65f8-4ab2-962c-6dd939e0ba87"
      },
      "outputs": [
        {
          "name": "stdout",
          "output_type": "stream",
          "text": [
            "default (newmm):\n",
            "['กัปตัน', 'อเมริกา', 'นำ', 'ทัพ', 'ด่า', 'หลัง', 'ทรัมป์', 'บอก', 'ประชาชน', 'ว่า', 'ไม่ต้อง', 'กลัว', 'เพราะ', 'ตัวเอง', 'ติด']\n",
            "\n",
            "newmm and keep_whitespace=False:\n",
            "['กัปตัน', 'อเมริกา', 'นำ', 'ทัพ', 'ด่า', 'หลัง', 'ทรัมป์', 'บอก', 'ประชาชน', 'ว่า', 'ไม่ต้อง', 'กลัว', 'เพราะ', 'ตัวเอง', 'ติด']\n"
          ]
        }
      ],
      "source": [
        "from pythainlp import word_tokenize\n",
        "\n",
        "text = \"กัปตันอเมริกานำทัพด่าหลังทรัมป์บอกประชาชนว่าไม่ต้องกลัวเพราะตัวเองติด\"\n",
        "\n",
        "print(\"default (newmm):\")\n",
        "print(word_tokenize(text))\n",
        "print(\"\\nnewmm and keep_whitespace=False:\")\n",
        "print(word_tokenize(text, keep_whitespace=False))"
      ]
    },
    {
      "cell_type": "markdown",
      "metadata": {
        "id": "0ShkCw8dcSez"
      },
      "source": [
        "ข้อมูลตัวอย่าง"
      ]
    },
    {
      "cell_type": "code",
      "execution_count": 3,
      "metadata": {
        "colab": {
          "base_uri": "https://localhost:8080/"
        },
        "id": "OT3UwRQqcAt7",
        "outputId": "8e6b9bd7-2a95-4e35-9666-40081e83e841"
      },
      "outputs": [
        {
          "name": "stdout",
          "output_type": "stream",
          "text": [
            "newmm  : ['กฎหมายแรงงาน', 'ฉบับ', 'ปรับปรุง', 'ใหม่', 'ประกาศ', 'ใช้แล้ว']\n",
            "longest: ['กฎหมายแรงงาน', 'ฉบับ', 'ปรับปรุง', 'ใหม่', 'ประกาศใช้', 'แล้ว']\n",
            "newmm (custom dictionary): ['กฎหมาย', 'แรงงาน', 'ฉบับปรับปรุงใหม่ประกาศใช้แล้ว']\n"
          ]
        }
      ],
      "source": [
        "from pythainlp import word_tokenize, Tokenizer\n",
        "\n",
        "text = \"กฎหมายแรงงานฉบับปรับปรุงใหม่ประกาศใช้แล้ว\"\n",
        "\n",
        "print(\"newmm  :\", word_tokenize(text))  # default engine is \"newmm\"\n",
        "print(\"longest:\", word_tokenize(text, engine=\"longest\"))\n",
        "\n",
        "words = [\"แรงงาน\"]\n",
        "custom_tokenizer = Tokenizer(words)\n",
        "print(\"newmm (custom dictionary):\", custom_tokenizer.word_tokenize(text))"
      ]
    },
    {
      "cell_type": "markdown",
      "metadata": {
        "id": "bocqzO5McWWF"
      },
      "source": [
        "ข้อมูลของเรา"
      ]
    },
    {
      "cell_type": "code",
      "execution_count": 4,
      "metadata": {
        "colab": {
          "base_uri": "https://localhost:8080/"
        },
        "id": "gHaGLRnGYAlk",
        "outputId": "6bf8cad2-0219-44ae-e3e1-fd12a2ea9a12"
      },
      "outputs": [
        {
          "name": "stdout",
          "output_type": "stream",
          "text": [
            "newmm  : ['กัปตัน', 'อเมริกา', 'นำ', 'ทัพ', 'ด่า', 'หลัง', 'ทรัมป์', 'บอก', 'ประชาชน', 'ว่า', 'ไม่ต้อง', 'กลัว', 'เพราะ', 'ตัวเอง', 'ติด']\n",
            "longest: ['กัปตัน', 'อเมริกา', 'นำ', 'ทัพ', 'ด่า', 'หลัง', 'ทรัมป์', 'บอก', 'ประชาชน', 'ว่า', 'ไม่ต้อง', 'กลัว', 'เพราะ', 'ตัวเอง', 'ติด']\n",
            "newmm (custom dictionary): ['กัปตันอเมริกานำทัพด่าหลังทรัมป์บอกประชาชนว่าไม่ต้องกลัวเพราะตัวเองติด']\n"
          ]
        }
      ],
      "source": [
        "from pythainlp import word_tokenize, Tokenizer\n",
        "\n",
        "text = \"กัปตันอเมริกานำทัพด่าหลังทรัมป์บอกประชาชนว่าไม่ต้องกลัวเพราะตัวเองติด\"\n",
        "\n",
        "print(\"newmm  :\", word_tokenize(text))  # default engine is \"newmm\"\n",
        "print(\"longest:\", word_tokenize(text, engine=\"longest\"))\n",
        "\n",
        "words = [\"แรงงาน\"]\n",
        "custom_tokenizer = Tokenizer(words)\n",
        "print(\"newmm (custom dictionary):\", custom_tokenizer.word_tokenize(text))"
      ]
    },
    {
      "cell_type": "code",
      "execution_count": 14,
      "metadata": {
        "colab": {
          "base_uri": "https://localhost:8080/",
          "height": 373
        },
        "id": "y26UaIKyea4C",
        "outputId": "5ec3c900-2510-42de-cfdb-921577551692"
      },
      "outputs": [
        {
          "name": "stdout",
          "output_type": "stream",
          "text": [
            "sent_tokenize: ['เมืองเชียงรายมีประวัติศาสตร์อันยาวนาน ', 'เป็นที่ตั้งของหิรัญนครเงินยางเชียงแสน']\n",
            "sent_tokenize no whitespace: ['เมืองเชียงรายมีประวัติศาสตร์อันยาวนาน', 'เป็นที่ตั้งของหิรัญนครเงินยางเชียงแสน']\n",
            "word_tokenize: ['เมือง', 'เชียงราย', 'มี', 'ประวัติศาสตร์', 'อัน', 'ยาวนาน', ' ', 'เป็นที่ตั้ง', 'ของ', 'หิรัญ', 'นคร', 'เงิน', 'ยาง', 'เชียงแสน']\n",
            "no whitespace: ['เมือง', 'เชียงราย', 'มี', 'ประวัติศาสตร์', 'อัน', 'ยาวนาน', 'เป็นที่ตั้ง', 'ของ', 'หิรัญ', 'นคร', 'เงิน', 'ยาง', 'เชียงแสน']\n"
          ]
        }
      ],
      "source": [
        "from pythainlp import sent_tokenize, word_tokenize\n",
        "text = \"เมืองเชียงรายมีประวัติศาสตร์อันยาวนาน เป็นที่ตั้งของหิรัญนครเงินยางเชียงแสน\"\n",
        "print(\"sent_tokenize:\", sent_tokenize(text))\n",
        "print(\"sent_tokenize no whitespace:\", sent_tokenize(text, keep_whitespace=False))\n",
        "print(\"word_tokenize:\", word_tokenize(text))\n",
        "print(\"no whitespace:\", word_tokenize(text, keep_whitespace=False))"
      ]
    },
    {
      "cell_type": "markdown",
      "metadata": {
        "id": "5uWO6u0DeKRK"
      },
      "source": [
        "ข้อคำถามการตัดคำ\n",
        "\n",
        "กัปตันอเมริกานำทัพด่าหลังทรัมป์บอกประชาชนว่าไม่ต้องกลัวเพราะตัวเองติด\n",
        "\n",
        "ผู้ที่มีอาชีพอิสระมีรายได้ไม่เกิน30000บาทต่อเดือนได้รับผลกระทบจากไวรัสโคโรนา"
      ]
    },
    {
      "cell_type": "markdown",
      "metadata": {
        "id": "BvrPi7qseXqU"
      },
      "source": [
        "การเปรียบเทียบ"
      ]
    },
    {
      "cell_type": "markdown",
      "metadata": {
        "id": "il8AR8UiesmW"
      },
      "source": [
        "เปรียบเทียบตัดคำภาษาไทย ด้วยอัลกอริทึมต่าง ๆ"
      ]
    },
    {
      "cell_type": "code",
      "execution_count": 15,
      "metadata": {
        "id": "H8hH7sBwew-K"
      },
      "outputs": [],
      "source": [
        "text = \"กัปตันอเมริกานำทัพด่าหลังทรัมป์บอกประชาชนว่าไม่ต้องกลัวเพราะตัวเองติด\""
      ]
    },
    {
      "cell_type": "code",
      "execution_count": 16,
      "metadata": {
        "colab": {
          "base_uri": "https://localhost:8080/"
        },
        "id": "nCUgrAdbe0BM",
        "outputId": "b84f9e1f-202e-4139-e2aa-c236d336b105"
      },
      "outputs": [
        {
          "name": "stdout",
          "output_type": "stream",
          "text": [
            "newmm    : ['กัปตัน', 'อเมริกา', 'นำ', 'ทัพ', 'ด่า', 'หลัง', 'ทรัมป์', 'บอก', 'ประชาชน', 'ว่า', 'ไม่ต้อง', 'กลัว', 'เพราะ', 'ตัวเอง', 'ติด']\n",
            "longest  : ['กัปตัน', 'อเมริกา', 'นำ', 'ทัพ', 'ด่า', 'หลัง', 'ทรัมป์', 'บอก', 'ประชาชน', 'ว่า', 'ไม่ต้อง', 'กลัว', 'เพราะ', 'ตัวเอง', 'ติด']\n",
            "multi_cut: ['กัปตัน', 'อเมริกา', 'นำ', 'ทัพ', 'ด่า', 'หลัง', 'ทรัมป์', 'บอก', 'ประชาชน', 'ว่า', 'ไม่ต้องกลัว', 'เพราะ', 'ตัวเอง', 'ติด']\n",
            "3/3 [==============================] - 0s 48ms/step\n",
            "deepcut  : ['กัปตัน', 'อเมริกา', 'นำ', 'ทัพ', 'ด่า', 'หลัง', 'ทรัมป์', 'บอก', 'ประชาชน', 'ว่า', 'ไม่', 'ต้อง', 'กลัว', 'เพราะ', 'ตัว', 'เอง', 'ติด']\n"
          ]
        }
      ],
      "source": [
        "print(\"newmm    :\", word_tokenize(text))  # default engine is \"newmm\"\n",
        "print(\"longest  :\", word_tokenize(text, engine=\"longest\"))\n",
        "print(\"multi_cut:\", word_tokenize(text, engine=\"multi_cut\"))\n",
        "print(\"deepcut  :\", word_tokenize(text, engine=\"deepcut\"))"
      ]
    },
    {
      "cell_type": "code",
      "execution_count": 17,
      "metadata": {
        "id": "uc-Ey6kNg8tN"
      },
      "outputs": [],
      "source": [
        "text = \"ผู้ที่มีอาชีพอิสระมีรายได้ไม่เกิน30000บาทต่อเดือนได้รับผลกระทบจากไวรัสโคโรนา\""
      ]
    },
    {
      "cell_type": "code",
      "execution_count": 18,
      "metadata": {
        "colab": {
          "base_uri": "https://localhost:8080/"
        },
        "id": "FHMyPmbdhCzc",
        "outputId": "0648e576-08f2-45bb-d535-340d659c2a89"
      },
      "outputs": [
        {
          "name": "stdout",
          "output_type": "stream",
          "text": [
            "newmm    : ['ผู้', 'ที่', 'มี', 'อาชีพ', 'อิสระ', 'มี', 'รายได้', 'ไม่', 'เกิน', '30000', 'บาท', 'ต่อ', 'เดือน', 'ได้รับ', 'ผลกระทบ', 'จาก', 'ไวรัส', 'โค', 'โร', 'นา']\n",
            "longest  : ['ผู้', 'ที่', 'มี', 'อาชีพ', 'อิสระ', 'มี', 'รายได้', 'ไม่', 'เกิน', '30000', 'บาท', 'ต่อ', 'เดือน', 'ได้รับ', 'ผลกระทบ', 'จาก', 'ไวรัส', 'โค', 'โร', 'นา']\n",
            "multi_cut: ['ผู้', 'ที่', 'มี', 'อาชีพอิสระ', 'มี', 'รายได้', 'ไม่', 'เกิน', '30000', 'บาท', 'ต่อ', 'เดือน', 'ได้รับ', 'ผลกระทบ', 'จาก', 'ไวรัส', 'โค', 'โร', 'นา']\n",
            "3/3 [==============================] - 0s 94ms/step\n",
            "deepcut  : ['ผู้', 'ที่', 'มี', 'อาชีพ', 'อิสระ', 'มี', 'ราย', 'ได้', 'ไม่', 'เกิน', '30000', 'บาท', 'ต่อ', 'เดือน', 'ได้', 'รับ', 'ผล', 'กระทบ', 'จาก', 'ไวรัส', 'โคโรนา']\n"
          ]
        }
      ],
      "source": [
        "print(\"newmm    :\", word_tokenize(text))  # default engine is \"newmm\"\n",
        "print(\"longest  :\", word_tokenize(text, engine=\"longest\"))\n",
        "print(\"multi_cut:\", word_tokenize(text, engine=\"multi_cut\"))\n",
        "print(\"deepcut  :\", word_tokenize(text, engine=\"deepcut\"))"
      ]
    },
    {
      "cell_type": "markdown",
      "metadata": {
        "id": "Z-8WOecUOH0b"
      },
      "source": [
        "#เริ่ม นำเข้าขูลมูล Pandas"
      ]
    },
    {
      "cell_type": "code",
      "execution_count": null,
      "metadata": {
        "id": "vuJpXY7IuHKN"
      },
      "outputs": [],
      "source": [
        "# ติดตั้ง Pandas\n",
        "import pandas as pd"
      ]
    },
    {
      "cell_type": "code",
      "execution_count": null,
      "metadata": {
        "colab": {
          "base_uri": "https://localhost:8080/",
          "height": 419
        },
        "id": "2PtcAuJkuIX8",
        "outputId": "29ef7888-a041-4173-f0f4-deb4b1fc7001"
      },
      "outputs": [
        {
          "data": {
            "text/html": [
              "<div>\n",
              "<style scoped>\n",
              "    .dataframe tbody tr th:only-of-type {\n",
              "        vertical-align: middle;\n",
              "    }\n",
              "\n",
              "    .dataframe tbody tr th {\n",
              "        vertical-align: top;\n",
              "    }\n",
              "\n",
              "    .dataframe thead th {\n",
              "        text-align: right;\n",
              "    }\n",
              "</style>\n",
              "<table border=\"1\" class=\"dataframe\">\n",
              "  <thead>\n",
              "    <tr style=\"text-align: right;\">\n",
              "      <th></th>\n",
              "      <th>TEXT</th>\n",
              "    </tr>\n",
              "  </thead>\n",
              "  <tbody>\n",
              "    <tr>\n",
              "      <th>0</th>\n",
              "      <td>กัปตันอเมริกานำทัพด่าหลังทรัมป์บอกประชาชนว่าไม...</td>\n",
              "    </tr>\n",
              "    <tr>\n",
              "      <th>1</th>\n",
              "      <td>RSVและโรคทางเดินหายใจในช่วงที่มีการระบาดของใหม...</td>\n",
              "    </tr>\n",
              "    <tr>\n",
              "      <th>2</th>\n",
              "      <td>วัคซีนโควิด19การศึกษาระยะสุดท้ายแบบสมบูรณ์คงจะ...</td>\n",
              "    </tr>\n",
              "    <tr>\n",
              "      <th>3</th>\n",
              "      <td>Facebookเตรียมบริจาคเงิน40ล้านดอลลาร์ฯช่วยธุรก...</td>\n",
              "    </tr>\n",
              "    <tr>\n",
              "      <th>4</th>\n",
              "      <td>พม่ามีผู้ป่วยเพิ่ม1010รายสรุปผู้ป่วยทั้งหมด143...</td>\n",
              "    </tr>\n",
              "    <tr>\n",
              "      <th>...</th>\n",
              "      <td>...</td>\n",
              "    </tr>\n",
              "    <tr>\n",
              "      <th>2915</th>\n",
              "      <td>ประเทศไทยเชื่อผู้นำจะพาประชาชนพ้นภัยอ่านข่าวฝั...</td>\n",
              "    </tr>\n",
              "    <tr>\n",
              "      <th>2916</th>\n",
              "      <td>โอ้แม่เจ้ารับมือโควิด19แล้วคุณหมอโฆษกยังต้องรั...</td>\n",
              "    </tr>\n",
              "    <tr>\n",
              "      <th>2917</th>\n",
              "      <td>ยิ้มทั้งวันไม่มีผู้ติดเชื้อโควิด19ไม่มีผู้เสีย...</td>\n",
              "    </tr>\n",
              "    <tr>\n",
              "      <th>2918</th>\n",
              "      <td>โควิด19วันนี้ไทยป่วยเพิ่ม5คนรวมสะสม75คนรักษาหา...</td>\n",
              "    </tr>\n",
              "    <tr>\n",
              "      <th>2919</th>\n",
              "      <td>โควิด19มุ่งไปยุโรปนายกฯเยอรมนีรับ70ของพลเมืองท...</td>\n",
              "    </tr>\n",
              "  </tbody>\n",
              "</table>\n",
              "<p>2920 rows × 1 columns</p>\n",
              "</div>"
            ],
            "text/plain": [
              "                                                   TEXT\n",
              "0     กัปตันอเมริกานำทัพด่าหลังทรัมป์บอกประชาชนว่าไม...\n",
              "1     RSVและโรคทางเดินหายใจในช่วงที่มีการระบาดของใหม...\n",
              "2     วัคซีนโควิด19การศึกษาระยะสุดท้ายแบบสมบูรณ์คงจะ...\n",
              "3     Facebookเตรียมบริจาคเงิน40ล้านดอลลาร์ฯช่วยธุรก...\n",
              "4     พม่ามีผู้ป่วยเพิ่ม1010รายสรุปผู้ป่วยทั้งหมด143...\n",
              "...                                                 ...\n",
              "2915  ประเทศไทยเชื่อผู้นำจะพาประชาชนพ้นภัยอ่านข่าวฝั...\n",
              "2916  โอ้แม่เจ้ารับมือโควิด19แล้วคุณหมอโฆษกยังต้องรั...\n",
              "2917  ยิ้มทั้งวันไม่มีผู้ติดเชื้อโควิด19ไม่มีผู้เสีย...\n",
              "2918  โควิด19วันนี้ไทยป่วยเพิ่ม5คนรวมสะสม75คนรักษาหา...\n",
              "2919  โควิด19มุ่งไปยุโรปนายกฯเยอรมนีรับ70ของพลเมืองท...\n",
              "\n",
              "[2920 rows x 1 columns]"
            ]
          },
          "execution_count": 59,
          "metadata": {
            "tags": []
          },
          "output_type": "execute_result"
        }
      ],
      "source": [
        "# เรียกไฟล์ Excel โดยไฟล์อยู่ใน GoogleDrive\n",
        "df = pd.read_excel('/content/drive/MyDrive/Colab Notebooks/0.DataSocialMedia/ALL_hashtag_Cr7_cut.xlsx', sheet_name='all')\n",
        "df"
      ]
    },
    {
      "cell_type": "markdown",
      "metadata": {
        "id": "P5xXblHFdGud"
      },
      "source": [
        "#PyThaiNLP Get Started\n",
        "[PyThaiNLP Get Started](https://pythainlp.github.io/tutorials/notebooks/pythainlp_get_started.html)"
      ]
    },
    {
      "cell_type": "code",
      "execution_count": null,
      "metadata": {
        "id": "u3EDoJlXEpO8"
      },
      "outputs": [],
      "source": [
        "%%capture\n",
        "# !pip install emoji\n",
        "# !pip install pythainlp"
      ]
    },
    {
      "cell_type": "code",
      "execution_count": null,
      "metadata": {
        "id": "3qMB8xV9FDlB"
      },
      "outputs": [],
      "source": [
        "import tweepy\n",
        "import pandas as pd\n",
        "from sklearn.feature_extraction.text import CountVectorizer\n",
        "import numpy as np\n",
        "import emoji\n",
        "from pythainlp.tokenize import word_tokenize\n",
        "from pythainlp.corpus import thai_stopwords\n",
        "import re\n",
        "from wordcloud import WordCloud\n",
        "import matplotlib.pyplot as plt "
      ]
    },
    {
      "cell_type": "markdown",
      "metadata": {
        "id": "jrPR483QjXQZ"
      },
      "source": [
        "## Step 1: Text cleaning"
      ]
    },
    {
      "cell_type": "code",
      "execution_count": null,
      "metadata": {
        "colab": {
          "base_uri": "https://localhost:8080/"
        },
        "id": "zG62k9YbjZmH",
        "outputId": "2422a1a7-da08-4ee2-e9cc-85a70df63eab"
      },
      "outputs": [
        {
          "data": {
            "text/plain": [
              "['กัปตันอเมริกานำทัพด่าหลังทรัมป์บอกประชาชนว่าไม่ต้องกลัวเพราะตัวเองติด',\n",
              " 'และโรคทางเดินหายใจในช่วงที่มีการระบาดของใหม่ๆมีการป้องกันกัน',\n",
              " 'วัคซีนโควิดการศึกษาระยะสุดท้ายแบบสมบูรณ์คงจะมีผลประกาศออกมาในเดือนหน้าเชื่อว่า',\n",
              " 'เตรียมบริจาคเงินล้านดอลลาร์ฯช่วยธุรกิจคนผิวดำจากพิษ',\n",
              " 'พม่ามีผู้ป่วยเพิ่มรายสรุปผู้ป่วยทั้งหมดราย',\n",
              " 'ประเทศที่ยังปลอดประเทศที่ยังไม่มีรายงานผู้ติดไวรัสโคโรนาสายพันธุ์ใหม่',\n",
              " 'ไม่มีมาตรการช่วยเหลือลูกค้าเก่าลดค่าใช้จ่ายในสถานะการเลยหรือครับมีค่ายไหน',\n",
              " 'แบบนี้เป็นยังไงระบบดีมั้ยเรื่องสัญญาจ้างสวัสดิการถ้าไล่ออกจ่ายเงินชดเชยมั้ย',\n",
              " 'ผู้ที่มีอาชีพอิสระมีรายได้ไม่เกินบาทต่อเดือนได้รับผลกระทบจากไวรัสโคโรนา',\n",
              " 'ผู้ที่มีอาชีพอิสระไม่ใช่เกษตรกรมีรายได้ไม่เกินบาทต่อเดือนหรืออาจตกงาน']"
            ]
          },
          "execution_count": 61,
          "metadata": {
            "tags": []
          },
          "output_type": "execute_result"
        }
      ],
      "source": [
        "def cleanText(text):\n",
        "    text = str(text)\n",
        "    text = re.sub('[^ก-๙]','',text)\n",
        "    stop_word = list(thai_stopwords())\n",
        "    sentence = word_tokenize(text)\n",
        "    result = [word for word in sentence if word not in stop_word and \" \" not in word]\n",
        "    return text\n",
        "cleaning = []\n",
        "for txt in df[\"TEXT\"]:\n",
        "    cleaning.append(cleanText(txt))\n",
        "cleaning[:10]"
      ]
    },
    {
      "cell_type": "code",
      "execution_count": null,
      "metadata": {
        "colab": {
          "base_uri": "https://localhost:8080/",
          "height": 419
        },
        "id": "KvukN51rm6uX",
        "outputId": "c2313546-e1b1-4c52-c7ce-248591b5978c"
      },
      "outputs": [
        {
          "data": {
            "text/html": [
              "<div>\n",
              "<style scoped>\n",
              "    .dataframe tbody tr th:only-of-type {\n",
              "        vertical-align: middle;\n",
              "    }\n",
              "\n",
              "    .dataframe tbody tr th {\n",
              "        vertical-align: top;\n",
              "    }\n",
              "\n",
              "    .dataframe thead th {\n",
              "        text-align: right;\n",
              "    }\n",
              "</style>\n",
              "<table border=\"1\" class=\"dataframe\">\n",
              "  <thead>\n",
              "    <tr style=\"text-align: right;\">\n",
              "      <th></th>\n",
              "      <th>TEXT</th>\n",
              "      <th>cleaning</th>\n",
              "    </tr>\n",
              "  </thead>\n",
              "  <tbody>\n",
              "    <tr>\n",
              "      <th>0</th>\n",
              "      <td>กัปตันอเมริกานำทัพด่าหลังทรัมป์บอกประชาชนว่าไม...</td>\n",
              "      <td>กัปตันอเมริกานำทัพด่าหลังทรัมป์บอกประชาชนว่าไม...</td>\n",
              "    </tr>\n",
              "    <tr>\n",
              "      <th>1</th>\n",
              "      <td>RSVและโรคทางเดินหายใจในช่วงที่มีการระบาดของใหม...</td>\n",
              "      <td>และโรคทางเดินหายใจในช่วงที่มีการระบาดของใหม่ๆม...</td>\n",
              "    </tr>\n",
              "    <tr>\n",
              "      <th>2</th>\n",
              "      <td>วัคซีนโควิด19การศึกษาระยะสุดท้ายแบบสมบูรณ์คงจะ...</td>\n",
              "      <td>วัคซีนโควิดการศึกษาระยะสุดท้ายแบบสมบูรณ์คงจะมี...</td>\n",
              "    </tr>\n",
              "    <tr>\n",
              "      <th>3</th>\n",
              "      <td>Facebookเตรียมบริจาคเงิน40ล้านดอลลาร์ฯช่วยธุรก...</td>\n",
              "      <td>เตรียมบริจาคเงินล้านดอลลาร์ฯช่วยธุรกิจคนผิวดำจ...</td>\n",
              "    </tr>\n",
              "    <tr>\n",
              "      <th>4</th>\n",
              "      <td>พม่ามีผู้ป่วยเพิ่ม1010รายสรุปผู้ป่วยทั้งหมด143...</td>\n",
              "      <td>พม่ามีผู้ป่วยเพิ่มรายสรุปผู้ป่วยทั้งหมดราย</td>\n",
              "    </tr>\n",
              "    <tr>\n",
              "      <th>...</th>\n",
              "      <td>...</td>\n",
              "      <td>...</td>\n",
              "    </tr>\n",
              "    <tr>\n",
              "      <th>2915</th>\n",
              "      <td>ประเทศไทยเชื่อผู้นำจะพาประชาชนพ้นภัยอ่านข่าวฝั...</td>\n",
              "      <td>ประเทศไทยเชื่อผู้นำจะพาประชาชนพ้นภัยอ่านข่าวฝั...</td>\n",
              "    </tr>\n",
              "    <tr>\n",
              "      <th>2916</th>\n",
              "      <td>โอ้แม่เจ้ารับมือโควิด19แล้วคุณหมอโฆษกยังต้องรั...</td>\n",
              "      <td>โอ้แม่เจ้ารับมือโควิดแล้วคุณหมอโฆษกยังต้องรับม...</td>\n",
              "    </tr>\n",
              "    <tr>\n",
              "      <th>2917</th>\n",
              "      <td>ยิ้มทั้งวันไม่มีผู้ติดเชื้อโควิด19ไม่มีผู้เสีย...</td>\n",
              "      <td>ยิ้มทั้งวันไม่มีผู้ติดเชื้อโควิดไม่มีผู้เสียชี...</td>\n",
              "    </tr>\n",
              "    <tr>\n",
              "      <th>2918</th>\n",
              "      <td>โควิด19วันนี้ไทยป่วยเพิ่ม5คนรวมสะสม75คนรักษาหา...</td>\n",
              "      <td>โควิดวันนี้ไทยป่วยเพิ่มคนรวมสะสมคนรักษาหายคนรั...</td>\n",
              "    </tr>\n",
              "    <tr>\n",
              "      <th>2919</th>\n",
              "      <td>โควิด19มุ่งไปยุโรปนายกฯเยอรมนีรับ70ของพลเมืองท...</td>\n",
              "      <td>โควิดมุ่งไปยุโรปนายกฯเยอรมนีรับของพลเมืองทั้งห...</td>\n",
              "    </tr>\n",
              "  </tbody>\n",
              "</table>\n",
              "<p>2920 rows × 2 columns</p>\n",
              "</div>"
            ],
            "text/plain": [
              "                                                   TEXT                                           cleaning\n",
              "0     กัปตันอเมริกานำทัพด่าหลังทรัมป์บอกประชาชนว่าไม...  กัปตันอเมริกานำทัพด่าหลังทรัมป์บอกประชาชนว่าไม...\n",
              "1     RSVและโรคทางเดินหายใจในช่วงที่มีการระบาดของใหม...  และโรคทางเดินหายใจในช่วงที่มีการระบาดของใหม่ๆม...\n",
              "2     วัคซีนโควิด19การศึกษาระยะสุดท้ายแบบสมบูรณ์คงจะ...  วัคซีนโควิดการศึกษาระยะสุดท้ายแบบสมบูรณ์คงจะมี...\n",
              "3     Facebookเตรียมบริจาคเงิน40ล้านดอลลาร์ฯช่วยธุรก...  เตรียมบริจาคเงินล้านดอลลาร์ฯช่วยธุรกิจคนผิวดำจ...\n",
              "4     พม่ามีผู้ป่วยเพิ่ม1010รายสรุปผู้ป่วยทั้งหมด143...         พม่ามีผู้ป่วยเพิ่มรายสรุปผู้ป่วยทั้งหมดราย\n",
              "...                                                 ...                                                ...\n",
              "2915  ประเทศไทยเชื่อผู้นำจะพาประชาชนพ้นภัยอ่านข่าวฝั...  ประเทศไทยเชื่อผู้นำจะพาประชาชนพ้นภัยอ่านข่าวฝั...\n",
              "2916  โอ้แม่เจ้ารับมือโควิด19แล้วคุณหมอโฆษกยังต้องรั...  โอ้แม่เจ้ารับมือโควิดแล้วคุณหมอโฆษกยังต้องรับม...\n",
              "2917  ยิ้มทั้งวันไม่มีผู้ติดเชื้อโควิด19ไม่มีผู้เสีย...  ยิ้มทั้งวันไม่มีผู้ติดเชื้อโควิดไม่มีผู้เสียชี...\n",
              "2918  โควิด19วันนี้ไทยป่วยเพิ่ม5คนรวมสะสม75คนรักษาหา...  โควิดวันนี้ไทยป่วยเพิ่มคนรวมสะสมคนรักษาหายคนรั...\n",
              "2919  โควิด19มุ่งไปยุโรปนายกฯเยอรมนีรับ70ของพลเมืองท...  โควิดมุ่งไปยุโรปนายกฯเยอรมนีรับของพลเมืองทั้งห...\n",
              "\n",
              "[2920 rows x 2 columns]"
            ]
          },
          "execution_count": 62,
          "metadata": {
            "tags": []
          },
          "output_type": "execute_result"
        }
      ],
      "source": [
        "df['cleaning'] = cleaning\n",
        "df"
      ]
    },
    {
      "cell_type": "markdown",
      "metadata": {
        "id": "b2Tfqr-yrfaa"
      },
      "source": [
        "## Step 2: ตัดคำ\n",
        "ทำความสะอาด เอาข้อมูล เฉพาะภาษาไทย ตัวอักษรไทย ตัดคำ และ CountWord\n",
        "\n",
        "[bualabs](https://www.bualabs.com/archives/3740/python-word-tokenize-pythainlp-example-algorithm-deepcut-newmm-longest-python-pythainlp-ep-2/)"
      ]
    },
    {
      "cell_type": "markdown",
      "metadata": {
        "id": "2bFRiENGxMv9"
      },
      "source": [
        "### multi_cut "
      ]
    },
    {
      "cell_type": "code",
      "execution_count": null,
      "metadata": {
        "colab": {
          "base_uri": "https://localhost:8080/",
          "height": 359
        },
        "id": "fy0IfdL1Fr_n",
        "outputId": "47535767-47f4-47f5-a8a8-9be4104c662c"
      },
      "outputs": [
        {
          "data": {
            "text/html": [
              "<div>\n",
              "<style scoped>\n",
              "    .dataframe tbody tr th:only-of-type {\n",
              "        vertical-align: middle;\n",
              "    }\n",
              "\n",
              "    .dataframe tbody tr th {\n",
              "        vertical-align: top;\n",
              "    }\n",
              "\n",
              "    .dataframe thead th {\n",
              "        text-align: right;\n",
              "    }\n",
              "</style>\n",
              "<table border=\"1\" class=\"dataframe\">\n",
              "  <thead>\n",
              "    <tr style=\"text-align: right;\">\n",
              "      <th></th>\n",
              "      <th>word</th>\n",
              "      <th>count</th>\n",
              "    </tr>\n",
              "  </thead>\n",
              "  <tbody>\n",
              "    <tr>\n",
              "      <th>8325</th>\n",
              "      <td>โควิด</td>\n",
              "      <td>1490</td>\n",
              "    </tr>\n",
              "    <tr>\n",
              "      <th>8299</th>\n",
              "      <td>โค</td>\n",
              "      <td>838</td>\n",
              "    </tr>\n",
              "    <tr>\n",
              "      <th>8588</th>\n",
              "      <td>โร</td>\n",
              "      <td>823</td>\n",
              "    </tr>\n",
              "    <tr>\n",
              "      <th>9033</th>\n",
              "      <td>ไวรัส</td>\n",
              "      <td>740</td>\n",
              "    </tr>\n",
              "    <tr>\n",
              "      <th>2994</th>\n",
              "      <td>นาสายพันธุ์</td>\n",
              "      <td>588</td>\n",
              "    </tr>\n",
              "    <tr>\n",
              "      <th>8911</th>\n",
              "      <td>ไทย</td>\n",
              "      <td>581</td>\n",
              "    </tr>\n",
              "    <tr>\n",
              "      <th>5464</th>\n",
              "      <td>สถานการณ์</td>\n",
              "      <td>378</td>\n",
              "    </tr>\n",
              "    <tr>\n",
              "      <th>739</th>\n",
              "      <td>คน</td>\n",
              "      <td>344</td>\n",
              "    </tr>\n",
              "    <tr>\n",
              "      <th>8052</th>\n",
              "      <td>แพร่ระบาด</td>\n",
              "      <td>329</td>\n",
              "    </tr>\n",
              "    <tr>\n",
              "      <th>2170</th>\n",
              "      <td>ติดเชื้อ</td>\n",
              "      <td>299</td>\n",
              "    </tr>\n",
              "  </tbody>\n",
              "</table>\n",
              "</div>"
            ],
            "text/plain": [
              "             word  count\n",
              "8325        โควิด   1490\n",
              "8299           โค    838\n",
              "8588           โร    823\n",
              "9033        ไวรัส    740\n",
              "2994  นาสายพันธุ์    588\n",
              "8911          ไทย    581\n",
              "5464    สถานการณ์    378\n",
              "739            คน    344\n",
              "8052    แพร่ระบาด    329\n",
              "2170     ติดเชื้อ    299"
            ]
          },
          "execution_count": 63,
          "metadata": {
            "tags": []
          },
          "output_type": "execute_result"
        }
      ],
      "source": [
        "def cleanText(text):\n",
        "    text = str(text)\n",
        "    text = re.sub('[^ก-๙]','',text)\n",
        "    stop_word = list(thai_stopwords())\n",
        "    sentence = word_tokenize(text, engine=\"multi_cut\")\n",
        "    # sentence = word_tokenize(text)\n",
        "    result = [word for word in sentence if word not in stop_word and \" \" not in word]\n",
        "    return \",\".join(result)\n",
        "\n",
        "def tokenize(d):  \n",
        "    result = d.split(\",\")\n",
        "    result = list(filter(None, result))\n",
        "    return result\n",
        "\n",
        "new_text = []\n",
        "for txt in df['cleaning']:\n",
        "    new_text.append(cleanText(txt))\n",
        "\n",
        "\n",
        "vectorizer = CountVectorizer(tokenizer=tokenize)\n",
        "transformed_data = vectorizer.fit_transform(new_text)\n",
        "count_data = zip(vectorizer.get_feature_names(), np.ravel(transformed_data.sum(axis=0)))\n",
        "keyword_df = pd.DataFrame(columns = ['word', 'count'])\n",
        "keyword_df['word'] = vectorizer.get_feature_names()\n",
        "keyword_df['count'] = np.ravel(transformed_data.sum(axis=0))   \n",
        "keyword_df.sort_values(by=['count'], ascending=False).head(10)"
      ]
    },
    {
      "cell_type": "code",
      "execution_count": null,
      "metadata": {
        "id": "FmXe-HwRK2Fp"
      },
      "outputs": [],
      "source": [
        "# Write file excel\n",
        "# keyword_df2.sort_values(by=['count'], ascending=False).head(100).to_excel(\"/content/drive/MyDrive/Colab Notebooks/3.Count-Word  bag of word/countword.xlsx\")"
      ]
    },
    {
      "cell_type": "code",
      "execution_count": null,
      "metadata": {
        "colab": {
          "base_uri": "https://localhost:8080/",
          "height": 35
        },
        "id": "Bn3nlhFHdEMT",
        "outputId": "80fa152e-de9a-475b-c17f-e68e1e25d06d"
      },
      "outputs": [
        {
          "data": {
            "application/vnd.google.colaboratory.intrinsic+json": {
              "type": "string"
            },
            "text/plain": [
              "'โรคทางเดิน,หายใจ,การระบาด,การป้องกัน'"
            ]
          },
          "execution_count": 34,
          "metadata": {
            "tags": []
          },
          "output_type": "execute_result"
        }
      ],
      "source": [
        "new_text[1]"
      ]
    },
    {
      "cell_type": "code",
      "execution_count": null,
      "metadata": {
        "colab": {
          "base_uri": "https://localhost:8080/",
          "height": 504
        },
        "id": "95S8XqvEo6hU",
        "outputId": "3115be2d-22a4-4589-a0e2-f1ccc6392fc5"
      },
      "outputs": [
        {
          "data": {
            "text/html": [
              "<div>\n",
              "<style scoped>\n",
              "    .dataframe tbody tr th:only-of-type {\n",
              "        vertical-align: middle;\n",
              "    }\n",
              "\n",
              "    .dataframe tbody tr th {\n",
              "        vertical-align: top;\n",
              "    }\n",
              "\n",
              "    .dataframe thead th {\n",
              "        text-align: right;\n",
              "    }\n",
              "</style>\n",
              "<table border=\"1\" class=\"dataframe\">\n",
              "  <thead>\n",
              "    <tr style=\"text-align: right;\">\n",
              "      <th></th>\n",
              "      <th>TEXT</th>\n",
              "      <th>cleaning</th>\n",
              "      <th>multi_cut</th>\n",
              "    </tr>\n",
              "  </thead>\n",
              "  <tbody>\n",
              "    <tr>\n",
              "      <th>0</th>\n",
              "      <td>กัปตันอเมริกานำทัพด่าหลังทรัมป์บอกประชาชนว่าไม...</td>\n",
              "      <td>กัปตันอเมริกานำทัพด่าหลังทรัมป์บอกประชาชนว่าไม...</td>\n",
              "      <td>กัปตัน,อเมริกา,ทัพ,ด่า,ทรัมป์,ประชาชน,ไม่ต้องก...</td>\n",
              "    </tr>\n",
              "    <tr>\n",
              "      <th>1</th>\n",
              "      <td>RSVและโรคทางเดินหายใจในช่วงที่มีการระบาดของใหม...</td>\n",
              "      <td>และโรคทางเดินหายใจในช่วงที่มีการระบาดของใหม่ๆม...</td>\n",
              "      <td>โรคทางเดิน,หายใจ,การระบาด,การป้องกัน</td>\n",
              "    </tr>\n",
              "    <tr>\n",
              "      <th>2</th>\n",
              "      <td>วัคซีนโควิด19การศึกษาระยะสุดท้ายแบบสมบูรณ์คงจะ...</td>\n",
              "      <td>วัคซีนโควิดการศึกษาระยะสุดท้ายแบบสมบูรณ์คงจะมี...</td>\n",
              "      <td>วัคซีน,โควิดการศึกษา,สุดท้าย,สมบูรณ์,มีผล,ประก...</td>\n",
              "    </tr>\n",
              "    <tr>\n",
              "      <th>3</th>\n",
              "      <td>Facebookเตรียมบริจาคเงิน40ล้านดอลลาร์ฯช่วยธุรก...</td>\n",
              "      <td>เตรียมบริจาคเงินล้านดอลลาร์ฯช่วยธุรกิจคนผิวดำจ...</td>\n",
              "      <td>เตรียม,บริจาค,เงิน,ล้าน,ดอลลาร์,ธุรกิจ,คนผิวดำ...</td>\n",
              "    </tr>\n",
              "    <tr>\n",
              "      <th>4</th>\n",
              "      <td>พม่ามีผู้ป่วยเพิ่ม1010รายสรุปผู้ป่วยทั้งหมด143...</td>\n",
              "      <td>พม่ามีผู้ป่วยเพิ่มรายสรุปผู้ป่วยทั้งหมดราย</td>\n",
              "      <td>พม่า,ผู้ป่วย,สรุป,ผู้ป่วย</td>\n",
              "    </tr>\n",
              "    <tr>\n",
              "      <th>...</th>\n",
              "      <td>...</td>\n",
              "      <td>...</td>\n",
              "      <td>...</td>\n",
              "    </tr>\n",
              "    <tr>\n",
              "      <th>2915</th>\n",
              "      <td>ประเทศไทยเชื่อผู้นำจะพาประชาชนพ้นภัยอ่านข่าวฝั...</td>\n",
              "      <td>ประเทศไทยเชื่อผู้นำจะพาประชาชนพ้นภัยอ่านข่าวฝั...</td>\n",
              "      <td>ประเทศ,ไทย,ผู้นำ,ประชาชน,พ้นภัย,อ่านข่าว,ฝันร้...</td>\n",
              "    </tr>\n",
              "    <tr>\n",
              "      <th>2916</th>\n",
              "      <td>โอ้แม่เจ้ารับมือโควิด19แล้วคุณหมอโฆษกยังต้องรั...</td>\n",
              "      <td>โอ้แม่เจ้ารับมือโควิดแล้วคุณหมอโฆษกยังต้องรับม...</td>\n",
              "      <td>โอ้,แม่เจ้า,รับมือ,โควิด,คุณหมอ,โฆษก,รับมือ,โค...</td>\n",
              "    </tr>\n",
              "    <tr>\n",
              "      <th>2917</th>\n",
              "      <td>ยิ้มทั้งวันไม่มีผู้ติดเชื้อโควิด19ไม่มีผู้เสีย...</td>\n",
              "      <td>ยิ้มทั้งวันไม่มีผู้ติดเชื้อโควิดไม่มีผู้เสียชี...</td>\n",
              "      <td>ยิ้ม,ทั้งวัน,ติดเชื้อ,โควิด,ผู้เสียชีวิต,ไทย,ป...</td>\n",
              "    </tr>\n",
              "    <tr>\n",
              "      <th>2918</th>\n",
              "      <td>โควิด19วันนี้ไทยป่วยเพิ่ม5คนรวมสะสม75คนรักษาหา...</td>\n",
              "      <td>โควิดวันนี้ไทยป่วยเพิ่มคนรวมสะสมคนรักษาหายคนรั...</td>\n",
              "      <td>โควิด,ไทย,ป่วย,คน,สะสม,คนรักษา,หาย,คนรักษา,คนฟ...</td>\n",
              "    </tr>\n",
              "    <tr>\n",
              "      <th>2919</th>\n",
              "      <td>โควิด19มุ่งไปยุโรปนายกฯเยอรมนีรับ70ของพลเมืองท...</td>\n",
              "      <td>โควิดมุ่งไปยุโรปนายกฯเยอรมนีรับของพลเมืองทั้งห...</td>\n",
              "      <td>โควิดมุ่ง,ไปยุโรปนายกฯ,เยอรมนีรับ,พลเมือง,ติดเ...</td>\n",
              "    </tr>\n",
              "  </tbody>\n",
              "</table>\n",
              "<p>2920 rows × 3 columns</p>\n",
              "</div>"
            ],
            "text/plain": [
              "                                                   TEXT  ...                                          multi_cut\n",
              "0     กัปตันอเมริกานำทัพด่าหลังทรัมป์บอกประชาชนว่าไม...  ...  กัปตัน,อเมริกา,ทัพ,ด่า,ทรัมป์,ประชาชน,ไม่ต้องก...\n",
              "1     RSVและโรคทางเดินหายใจในช่วงที่มีการระบาดของใหม...  ...               โรคทางเดิน,หายใจ,การระบาด,การป้องกัน\n",
              "2     วัคซีนโควิด19การศึกษาระยะสุดท้ายแบบสมบูรณ์คงจะ...  ...  วัคซีน,โควิดการศึกษา,สุดท้าย,สมบูรณ์,มีผล,ประก...\n",
              "3     Facebookเตรียมบริจาคเงิน40ล้านดอลลาร์ฯช่วยธุรก...  ...  เตรียม,บริจาค,เงิน,ล้าน,ดอลลาร์,ธุรกิจ,คนผิวดำ...\n",
              "4     พม่ามีผู้ป่วยเพิ่ม1010รายสรุปผู้ป่วยทั้งหมด143...  ...                          พม่า,ผู้ป่วย,สรุป,ผู้ป่วย\n",
              "...                                                 ...  ...                                                ...\n",
              "2915  ประเทศไทยเชื่อผู้นำจะพาประชาชนพ้นภัยอ่านข่าวฝั...  ...  ประเทศ,ไทย,ผู้นำ,ประชาชน,พ้นภัย,อ่านข่าว,ฝันร้...\n",
              "2916  โอ้แม่เจ้ารับมือโควิด19แล้วคุณหมอโฆษกยังต้องรั...  ...  โอ้,แม่เจ้า,รับมือ,โควิด,คุณหมอ,โฆษก,รับมือ,โค...\n",
              "2917  ยิ้มทั้งวันไม่มีผู้ติดเชื้อโควิด19ไม่มีผู้เสีย...  ...  ยิ้ม,ทั้งวัน,ติดเชื้อ,โควิด,ผู้เสียชีวิต,ไทย,ป...\n",
              "2918  โควิด19วันนี้ไทยป่วยเพิ่ม5คนรวมสะสม75คนรักษาหา...  ...  โควิด,ไทย,ป่วย,คน,สะสม,คนรักษา,หาย,คนรักษา,คนฟ...\n",
              "2919  โควิด19มุ่งไปยุโรปนายกฯเยอรมนีรับ70ของพลเมืองท...  ...  โควิดมุ่ง,ไปยุโรปนายกฯ,เยอรมนีรับ,พลเมือง,ติดเ...\n",
              "\n",
              "[2920 rows x 3 columns]"
            ]
          },
          "execution_count": 64,
          "metadata": {
            "tags": []
          },
          "output_type": "execute_result"
        }
      ],
      "source": [
        "df['multi_cut'] = new_text\n",
        "df"
      ]
    },
    {
      "cell_type": "code",
      "execution_count": null,
      "metadata": {
        "id": "glnoxWzlic26"
      },
      "outputs": [],
      "source": [
        "# Write file excel\n",
        "# df.to_excel(\"/content/drive/MyDrive/Colab Notebooks/2.1.text_cut/export/textcut.xlsx\")"
      ]
    },
    {
      "cell_type": "markdown",
      "metadata": {
        "id": "Nk6g6d2ZsFXA"
      },
      "source": [
        "## Step 3: ตัดคำภาษาไทย ด้วยอัลกอริทึมต่าง ๆ\n"
      ]
    },
    {
      "cell_type": "markdown",
      "metadata": {
        "id": "xlBgiJlTwpHa"
      },
      "source": [
        "PyThaiNLP ฟังก์ชัน word_tokenize\n",
        "API ฟังก์ชันตัดคำของ PyThaiNLP ถูกออกแบบมาให้รองรับการตัดคำ Word, Sentence หลายอัลกอริทึม เช่น\n",
        "\n",
        "newmm – Dictionary-based Thai Word Segmentation using maximal matching algorithm and Thai Character Cluster (TCC). The code is based on the notebooks created by Korakot Chaovavanich.\n",
        "\n",
        "multi_cut – Multi cut – Thai word segmentation with maximum matching. The original source code is from Korakot Chaovavanich.\n",
        "\n",
        "pyicu – Wrapper for PyICU word segmentation. This wrapper module uses icu.BreakIterator with Thai as icu.Local to locate boundaries between words from the text.\n",
        "\n",
        "deepcut – Wrapper for deepcut Thai word segmentation. deepcut is a Thai word segmentation library using Deep Neural, specifically, 1D Convolution Neural Network.\n",
        "\n",
        "attacut – Wrapper for AttaCut – Fast and Reasonably Accurate Word Tokenizer for Thai by Pattarawat Chormai\n",
        "tcc – The implementation of tokenizer according to Thai Character Clusters (TCCs) rules purposed by Theeramunkong et al. 2000.\n",
        "\n",
        "etcc – Enhanced Thai Character Cluster (ETCC) Python implementation by Wannaphong Phatthiyaphaibun (19 June 2017)\n",
        "โดยอัลกอริทึมใหม่ล่าสุด และเป็น Default ของ PyThaiNLP \n",
        "\n",
        "tokenize ณ ขณะนี้ คือ newmm ที่ใช้ อัลกอริทึม หา maximum matching จากใน Dictionary ที่ทำงานได้อย่างรวดเร็ว และถูกต้อง"
      ]
    },
    {
      "cell_type": "markdown",
      "metadata": {
        "id": "eRJ9vKXa7yoG"
      },
      "source": [
        "### newmm"
      ]
    },
    {
      "cell_type": "code",
      "execution_count": null,
      "metadata": {
        "colab": {
          "base_uri": "https://localhost:8080/",
          "height": 359
        },
        "id": "vUT4MwoT7sUJ",
        "outputId": "51e97eb8-7813-41e5-b10e-cacfafd3af83"
      },
      "outputs": [
        {
          "data": {
            "text/html": [
              "<div>\n",
              "<style scoped>\n",
              "    .dataframe tbody tr th:only-of-type {\n",
              "        vertical-align: middle;\n",
              "    }\n",
              "\n",
              "    .dataframe tbody tr th {\n",
              "        vertical-align: top;\n",
              "    }\n",
              "\n",
              "    .dataframe thead th {\n",
              "        text-align: right;\n",
              "    }\n",
              "</style>\n",
              "<table border=\"1\" class=\"dataframe\">\n",
              "  <thead>\n",
              "    <tr style=\"text-align: right;\">\n",
              "      <th></th>\n",
              "      <th>word</th>\n",
              "      <th>count</th>\n",
              "    </tr>\n",
              "  </thead>\n",
              "  <tbody>\n",
              "    <tr>\n",
              "      <th>8325</th>\n",
              "      <td>โควิด</td>\n",
              "      <td>1490</td>\n",
              "    </tr>\n",
              "    <tr>\n",
              "      <th>8299</th>\n",
              "      <td>โค</td>\n",
              "      <td>838</td>\n",
              "    </tr>\n",
              "    <tr>\n",
              "      <th>8588</th>\n",
              "      <td>โร</td>\n",
              "      <td>823</td>\n",
              "    </tr>\n",
              "    <tr>\n",
              "      <th>9033</th>\n",
              "      <td>ไวรัส</td>\n",
              "      <td>740</td>\n",
              "    </tr>\n",
              "    <tr>\n",
              "      <th>2994</th>\n",
              "      <td>นาสายพันธุ์</td>\n",
              "      <td>588</td>\n",
              "    </tr>\n",
              "    <tr>\n",
              "      <th>8911</th>\n",
              "      <td>ไทย</td>\n",
              "      <td>581</td>\n",
              "    </tr>\n",
              "    <tr>\n",
              "      <th>5464</th>\n",
              "      <td>สถานการณ์</td>\n",
              "      <td>378</td>\n",
              "    </tr>\n",
              "    <tr>\n",
              "      <th>739</th>\n",
              "      <td>คน</td>\n",
              "      <td>344</td>\n",
              "    </tr>\n",
              "    <tr>\n",
              "      <th>8052</th>\n",
              "      <td>แพร่ระบาด</td>\n",
              "      <td>329</td>\n",
              "    </tr>\n",
              "    <tr>\n",
              "      <th>2170</th>\n",
              "      <td>ติดเชื้อ</td>\n",
              "      <td>299</td>\n",
              "    </tr>\n",
              "  </tbody>\n",
              "</table>\n",
              "</div>"
            ],
            "text/plain": [
              "             word  count\n",
              "8325        โควิด   1490\n",
              "8299           โค    838\n",
              "8588           โร    823\n",
              "9033        ไวรัส    740\n",
              "2994  นาสายพันธุ์    588\n",
              "8911          ไทย    581\n",
              "5464    สถานการณ์    378\n",
              "739            คน    344\n",
              "8052    แพร่ระบาด    329\n",
              "2170     ติดเชื้อ    299"
            ]
          },
          "execution_count": 65,
          "metadata": {
            "tags": []
          },
          "output_type": "execute_result"
        }
      ],
      "source": [
        "def cleanText(text):\n",
        "    text = str(text)\n",
        "    text = re.sub('[^ก-๙]','',text)\n",
        "    stop_word = list(thai_stopwords())\n",
        "    sentence = word_tokenize(text)\n",
        "    # sentence = word_tokenize(text)\n",
        "    result = [word for word in sentence if word not in stop_word and \" \" not in word]\n",
        "    return \",\".join(result)\n",
        "\n",
        "def tokenize(d):  \n",
        "    result = d.split(\",\")\n",
        "    result = list(filter(None, result))\n",
        "    return result\n",
        "\n",
        "new_newmm = []\n",
        "for txt in df['cleaning']:\n",
        "    new_newmm.append(cleanText(txt))\n",
        "\n",
        "\n",
        "vectorizer = CountVectorizer(tokenizer=tokenize)\n",
        "transformed_data = vectorizer.fit_transform(new_text)\n",
        "count_data = zip(vectorizer.get_feature_names(), np.ravel(transformed_data.sum(axis=0)))\n",
        "keyword_df = pd.DataFrame(columns = ['word', 'count'])\n",
        "keyword_df['word'] = vectorizer.get_feature_names()\n",
        "keyword_df['count'] = np.ravel(transformed_data.sum(axis=0))   \n",
        "keyword_df.sort_values(by=['count'], ascending=False).head(10)"
      ]
    },
    {
      "cell_type": "code",
      "execution_count": null,
      "metadata": {
        "colab": {
          "base_uri": "https://localhost:8080/",
          "height": 674
        },
        "id": "lOLhMFbX8ImL",
        "outputId": "706e6420-07b4-4984-b8d2-3a181591c09f"
      },
      "outputs": [
        {
          "data": {
            "text/html": [
              "<div>\n",
              "<style scoped>\n",
              "    .dataframe tbody tr th:only-of-type {\n",
              "        vertical-align: middle;\n",
              "    }\n",
              "\n",
              "    .dataframe tbody tr th {\n",
              "        vertical-align: top;\n",
              "    }\n",
              "\n",
              "    .dataframe thead th {\n",
              "        text-align: right;\n",
              "    }\n",
              "</style>\n",
              "<table border=\"1\" class=\"dataframe\">\n",
              "  <thead>\n",
              "    <tr style=\"text-align: right;\">\n",
              "      <th></th>\n",
              "      <th>TEXT</th>\n",
              "      <th>cleaning</th>\n",
              "      <th>multi_cut</th>\n",
              "      <th>new_newmm</th>\n",
              "    </tr>\n",
              "  </thead>\n",
              "  <tbody>\n",
              "    <tr>\n",
              "      <th>0</th>\n",
              "      <td>กัปตันอเมริกานำทัพด่าหลังทรัมป์บอกประชาชนว่าไม...</td>\n",
              "      <td>กัปตันอเมริกานำทัพด่าหลังทรัมป์บอกประชาชนว่าไม...</td>\n",
              "      <td>กัปตัน,อเมริกา,ทัพ,ด่า,ทรัมป์,ประชาชน,ไม่ต้องก...</td>\n",
              "      <td>กัปตัน,อเมริกา,ทัพ,ด่า,ทรัมป์,ประชาชน,ไม่ต้อง,...</td>\n",
              "    </tr>\n",
              "    <tr>\n",
              "      <th>1</th>\n",
              "      <td>RSVและโรคทางเดินหายใจในช่วงที่มีการระบาดของใหม...</td>\n",
              "      <td>และโรคทางเดินหายใจในช่วงที่มีการระบาดของใหม่ๆม...</td>\n",
              "      <td>โรคทางเดิน,หายใจ,การระบาด,การป้องกัน</td>\n",
              "      <td>โรค,ทางเดิน,หายใจ,ระบาด,การป้องกัน</td>\n",
              "    </tr>\n",
              "    <tr>\n",
              "      <th>2</th>\n",
              "      <td>วัคซีนโควิด19การศึกษาระยะสุดท้ายแบบสมบูรณ์คงจะ...</td>\n",
              "      <td>วัคซีนโควิดการศึกษาระยะสุดท้ายแบบสมบูรณ์คงจะมี...</td>\n",
              "      <td>วัคซีน,โควิดการศึกษา,สุดท้าย,สมบูรณ์,มีผล,ประก...</td>\n",
              "      <td>วัคซีน,โควิด,การศึกษา,สุดท้าย,สมบูรณ์,มีผล,ประ...</td>\n",
              "    </tr>\n",
              "    <tr>\n",
              "      <th>3</th>\n",
              "      <td>Facebookเตรียมบริจาคเงิน40ล้านดอลลาร์ฯช่วยธุรก...</td>\n",
              "      <td>เตรียมบริจาคเงินล้านดอลลาร์ฯช่วยธุรกิจคนผิวดำจ...</td>\n",
              "      <td>เตรียม,บริจาค,เงิน,ล้าน,ดอลลาร์,ธุรกิจ,คนผิวดำ...</td>\n",
              "      <td>เตรียม,บริจาค,เงิน,ล้าน,ดอลลาร์,ธุรกิจ,คนผิวดำ...</td>\n",
              "    </tr>\n",
              "    <tr>\n",
              "      <th>4</th>\n",
              "      <td>พม่ามีผู้ป่วยเพิ่ม1010รายสรุปผู้ป่วยทั้งหมด143...</td>\n",
              "      <td>พม่ามีผู้ป่วยเพิ่มรายสรุปผู้ป่วยทั้งหมดราย</td>\n",
              "      <td>พม่า,ผู้ป่วย,สรุป,ผู้ป่วย</td>\n",
              "      <td>พม่า,ผู้ป่วย,สรุป,ผู้ป่วย</td>\n",
              "    </tr>\n",
              "    <tr>\n",
              "      <th>...</th>\n",
              "      <td>...</td>\n",
              "      <td>...</td>\n",
              "      <td>...</td>\n",
              "      <td>...</td>\n",
              "    </tr>\n",
              "    <tr>\n",
              "      <th>2915</th>\n",
              "      <td>ประเทศไทยเชื่อผู้นำจะพาประชาชนพ้นภัยอ่านข่าวฝั...</td>\n",
              "      <td>ประเทศไทยเชื่อผู้นำจะพาประชาชนพ้นภัยอ่านข่าวฝั...</td>\n",
              "      <td>ประเทศ,ไทย,ผู้นำ,ประชาชน,พ้นภัย,อ่านข่าว,ฝันร้...</td>\n",
              "      <td>ประเทศ,ไทย,ผู้นำ,ประชาชน,พ้นภัย,อ่าน,ข่าว,ฝันร...</td>\n",
              "    </tr>\n",
              "    <tr>\n",
              "      <th>2916</th>\n",
              "      <td>โอ้แม่เจ้ารับมือโควิด19แล้วคุณหมอโฆษกยังต้องรั...</td>\n",
              "      <td>โอ้แม่เจ้ารับมือโควิดแล้วคุณหมอโฆษกยังต้องรับม...</td>\n",
              "      <td>โอ้,แม่เจ้า,รับมือ,โควิด,คุณหมอ,โฆษก,รับมือ,โค...</td>\n",
              "      <td>โอ้,แม่เจ้า,รับมือ,โควิด,คุณหมอ,โฆษก,รับมือ,โค...</td>\n",
              "    </tr>\n",
              "    <tr>\n",
              "      <th>2917</th>\n",
              "      <td>ยิ้มทั้งวันไม่มีผู้ติดเชื้อโควิด19ไม่มีผู้เสีย...</td>\n",
              "      <td>ยิ้มทั้งวันไม่มีผู้ติดเชื้อโควิดไม่มีผู้เสียชี...</td>\n",
              "      <td>ยิ้ม,ทั้งวัน,ติดเชื้อ,โควิด,ผู้เสียชีวิต,ไทย,ป...</td>\n",
              "      <td>ยิ้ม,ทั้งวัน,ติดเชื้อ,โควิด,ผู้เสียชีวิต,ไทย,ป...</td>\n",
              "    </tr>\n",
              "    <tr>\n",
              "      <th>2918</th>\n",
              "      <td>โควิด19วันนี้ไทยป่วยเพิ่ม5คนรวมสะสม75คนรักษาหา...</td>\n",
              "      <td>โควิดวันนี้ไทยป่วยเพิ่มคนรวมสะสมคนรักษาหายคนรั...</td>\n",
              "      <td>โควิด,ไทย,ป่วย,คน,สะสม,คนรักษา,หาย,คนรักษา,คนฟ...</td>\n",
              "      <td>โควิด,ไทย,ป่วย,คน,สะสม,คน,รักษา,หาย,คน,รักษา,ค...</td>\n",
              "    </tr>\n",
              "    <tr>\n",
              "      <th>2919</th>\n",
              "      <td>โควิด19มุ่งไปยุโรปนายกฯเยอรมนีรับ70ของพลเมืองท...</td>\n",
              "      <td>โควิดมุ่งไปยุโรปนายกฯเยอรมนีรับของพลเมืองทั้งห...</td>\n",
              "      <td>โควิดมุ่ง,ไปยุโรปนายกฯ,เยอรมนีรับ,พลเมือง,ติดเ...</td>\n",
              "      <td>โควิด,ยุโรป,นายกฯ,เยอรมนี,พลเมือง,ติดเชื้อ,โควิด</td>\n",
              "    </tr>\n",
              "  </tbody>\n",
              "</table>\n",
              "<p>2920 rows × 4 columns</p>\n",
              "</div>"
            ],
            "text/plain": [
              "                                                   TEXT  ...                                          new_newmm\n",
              "0     กัปตันอเมริกานำทัพด่าหลังทรัมป์บอกประชาชนว่าไม...  ...  กัปตัน,อเมริกา,ทัพ,ด่า,ทรัมป์,ประชาชน,ไม่ต้อง,...\n",
              "1     RSVและโรคทางเดินหายใจในช่วงที่มีการระบาดของใหม...  ...                 โรค,ทางเดิน,หายใจ,ระบาด,การป้องกัน\n",
              "2     วัคซีนโควิด19การศึกษาระยะสุดท้ายแบบสมบูรณ์คงจะ...  ...  วัคซีน,โควิด,การศึกษา,สุดท้าย,สมบูรณ์,มีผล,ประ...\n",
              "3     Facebookเตรียมบริจาคเงิน40ล้านดอลลาร์ฯช่วยธุรก...  ...  เตรียม,บริจาค,เงิน,ล้าน,ดอลลาร์,ธุรกิจ,คนผิวดำ...\n",
              "4     พม่ามีผู้ป่วยเพิ่ม1010รายสรุปผู้ป่วยทั้งหมด143...  ...                          พม่า,ผู้ป่วย,สรุป,ผู้ป่วย\n",
              "...                                                 ...  ...                                                ...\n",
              "2915  ประเทศไทยเชื่อผู้นำจะพาประชาชนพ้นภัยอ่านข่าวฝั...  ...  ประเทศ,ไทย,ผู้นำ,ประชาชน,พ้นภัย,อ่าน,ข่าว,ฝันร...\n",
              "2916  โอ้แม่เจ้ารับมือโควิด19แล้วคุณหมอโฆษกยังต้องรั...  ...  โอ้,แม่เจ้า,รับมือ,โควิด,คุณหมอ,โฆษก,รับมือ,โค...\n",
              "2917  ยิ้มทั้งวันไม่มีผู้ติดเชื้อโควิด19ไม่มีผู้เสีย...  ...  ยิ้ม,ทั้งวัน,ติดเชื้อ,โควิด,ผู้เสียชีวิต,ไทย,ป...\n",
              "2918  โควิด19วันนี้ไทยป่วยเพิ่ม5คนรวมสะสม75คนรักษาหา...  ...  โควิด,ไทย,ป่วย,คน,สะสม,คน,รักษา,หาย,คน,รักษา,ค...\n",
              "2919  โควิด19มุ่งไปยุโรปนายกฯเยอรมนีรับ70ของพลเมืองท...  ...   โควิด,ยุโรป,นายกฯ,เยอรมนี,พลเมือง,ติดเชื้อ,โควิด\n",
              "\n",
              "[2920 rows x 4 columns]"
            ]
          },
          "execution_count": 66,
          "metadata": {
            "tags": []
          },
          "output_type": "execute_result"
        }
      ],
      "source": [
        "df['new_newmm'] = new_newmm\n",
        "df"
      ]
    },
    {
      "cell_type": "markdown",
      "metadata": {
        "id": "Nh-S7GDN8R5r"
      },
      "source": [
        "### deepcut\n",
        "\n",
        "ใช้เวลาตัดคำ 3,000 ms"
      ]
    },
    {
      "cell_type": "code",
      "execution_count": null,
      "metadata": {
        "colab": {
          "base_uri": "https://localhost:8080/",
          "height": 359
        },
        "id": "qKZjSd8J8Tq5",
        "outputId": "3a44187b-0dfd-44f5-8a67-8e1edf342adc"
      },
      "outputs": [
        {
          "data": {
            "text/html": [
              "<div>\n",
              "<style scoped>\n",
              "    .dataframe tbody tr th:only-of-type {\n",
              "        vertical-align: middle;\n",
              "    }\n",
              "\n",
              "    .dataframe tbody tr th {\n",
              "        vertical-align: top;\n",
              "    }\n",
              "\n",
              "    .dataframe thead th {\n",
              "        text-align: right;\n",
              "    }\n",
              "</style>\n",
              "<table border=\"1\" class=\"dataframe\">\n",
              "  <thead>\n",
              "    <tr style=\"text-align: right;\">\n",
              "      <th></th>\n",
              "      <th>word</th>\n",
              "      <th>count</th>\n",
              "    </tr>\n",
              "  </thead>\n",
              "  <tbody>\n",
              "    <tr>\n",
              "      <th>8325</th>\n",
              "      <td>โควิด</td>\n",
              "      <td>1490</td>\n",
              "    </tr>\n",
              "    <tr>\n",
              "      <th>8299</th>\n",
              "      <td>โค</td>\n",
              "      <td>838</td>\n",
              "    </tr>\n",
              "    <tr>\n",
              "      <th>8588</th>\n",
              "      <td>โร</td>\n",
              "      <td>823</td>\n",
              "    </tr>\n",
              "    <tr>\n",
              "      <th>9033</th>\n",
              "      <td>ไวรัส</td>\n",
              "      <td>740</td>\n",
              "    </tr>\n",
              "    <tr>\n",
              "      <th>2994</th>\n",
              "      <td>นาสายพันธุ์</td>\n",
              "      <td>588</td>\n",
              "    </tr>\n",
              "    <tr>\n",
              "      <th>8911</th>\n",
              "      <td>ไทย</td>\n",
              "      <td>581</td>\n",
              "    </tr>\n",
              "    <tr>\n",
              "      <th>5464</th>\n",
              "      <td>สถานการณ์</td>\n",
              "      <td>378</td>\n",
              "    </tr>\n",
              "    <tr>\n",
              "      <th>739</th>\n",
              "      <td>คน</td>\n",
              "      <td>344</td>\n",
              "    </tr>\n",
              "    <tr>\n",
              "      <th>8052</th>\n",
              "      <td>แพร่ระบาด</td>\n",
              "      <td>329</td>\n",
              "    </tr>\n",
              "    <tr>\n",
              "      <th>2170</th>\n",
              "      <td>ติดเชื้อ</td>\n",
              "      <td>299</td>\n",
              "    </tr>\n",
              "  </tbody>\n",
              "</table>\n",
              "</div>"
            ],
            "text/plain": [
              "             word  count\n",
              "8325        โควิด   1490\n",
              "8299           โค    838\n",
              "8588           โร    823\n",
              "9033        ไวรัส    740\n",
              "2994  นาสายพันธุ์    588\n",
              "8911          ไทย    581\n",
              "5464    สถานการณ์    378\n",
              "739            คน    344\n",
              "8052    แพร่ระบาด    329\n",
              "2170     ติดเชื้อ    299"
            ]
          },
          "execution_count": 67,
          "metadata": {
            "tags": []
          },
          "output_type": "execute_result"
        }
      ],
      "source": [
        "def cleanText(text):\n",
        "    text = str(text)\n",
        "    text = re.sub('[^ก-๙]','',text)\n",
        "    stop_word = list(thai_stopwords())\n",
        "    sentence = word_tokenize(text, engine=\"deepcut\")\n",
        "    # sentence = word_tokenize(text)\n",
        "    result = [word for word in sentence if word not in stop_word and \" \" not in word]\n",
        "    return \",\".join(result)\n",
        "\n",
        "def tokenize(d):  \n",
        "    result = d.split(\",\")\n",
        "    result = list(filter(None, result))\n",
        "    return result\n",
        "\n",
        "new_deepcut = []\n",
        "for txt in df['cleaning']:\n",
        "    new_deepcut.append(cleanText(txt))\n",
        "\n",
        "\n",
        "vectorizer = CountVectorizer(tokenizer=tokenize)\n",
        "transformed_data = vectorizer.fit_transform(new_text)\n",
        "count_data = zip(vectorizer.get_feature_names(), np.ravel(transformed_data.sum(axis=0)))\n",
        "keyword_df = pd.DataFrame(columns = ['word', 'count'])\n",
        "keyword_df['word'] = vectorizer.get_feature_names()\n",
        "keyword_df['count'] = np.ravel(transformed_data.sum(axis=0))   \n",
        "keyword_df.sort_values(by=['count'], ascending=False).head(10)"
      ]
    },
    {
      "cell_type": "code",
      "execution_count": null,
      "metadata": {
        "colab": {
          "base_uri": "https://localhost:8080/",
          "height": 1000
        },
        "id": "A8JiK13J8cHA",
        "outputId": "804fdf3d-4d27-4893-95db-a8a40191c58e"
      },
      "outputs": [
        {
          "data": {
            "text/html": [
              "<div>\n",
              "<style scoped>\n",
              "    .dataframe tbody tr th:only-of-type {\n",
              "        vertical-align: middle;\n",
              "    }\n",
              "\n",
              "    .dataframe tbody tr th {\n",
              "        vertical-align: top;\n",
              "    }\n",
              "\n",
              "    .dataframe thead th {\n",
              "        text-align: right;\n",
              "    }\n",
              "</style>\n",
              "<table border=\"1\" class=\"dataframe\">\n",
              "  <thead>\n",
              "    <tr style=\"text-align: right;\">\n",
              "      <th></th>\n",
              "      <th>TEXT</th>\n",
              "      <th>cleaning</th>\n",
              "      <th>multi_cut</th>\n",
              "      <th>new_newmm</th>\n",
              "      <th>deepcut</th>\n",
              "    </tr>\n",
              "  </thead>\n",
              "  <tbody>\n",
              "    <tr>\n",
              "      <th>0</th>\n",
              "      <td>กัปตันอเมริกานำทัพด่าหลังทรัมป์บอกประชาชนว่าไม...</td>\n",
              "      <td>กัปตันอเมริกานำทัพด่าหลังทรัมป์บอกประชาชนว่าไม...</td>\n",
              "      <td>กัปตัน,อเมริกา,ทัพ,ด่า,ทรัมป์,ประชาชน,ไม่ต้องก...</td>\n",
              "      <td>กัปตัน,อเมริกา,ทัพ,ด่า,ทรัมป์,ประชาชน,ไม่ต้อง,...</td>\n",
              "      <td>กัปตัน,อเมริกา,ทัพ,ด่า,ทรัมป์,ประชาชน,กลัว,ตัว...</td>\n",
              "    </tr>\n",
              "    <tr>\n",
              "      <th>1</th>\n",
              "      <td>RSVและโรคทางเดินหายใจในช่วงที่มีการระบาดของใหม...</td>\n",
              "      <td>และโรคทางเดินหายใจในช่วงที่มีการระบาดของใหม่ๆม...</td>\n",
              "      <td>โรคทางเดิน,หายใจ,การระบาด,การป้องกัน</td>\n",
              "      <td>โรค,ทางเดิน,หายใจ,ระบาด,การป้องกัน</td>\n",
              "      <td>โรค,เดิน,หายใจ,ระบาด,ป้องกัน</td>\n",
              "    </tr>\n",
              "    <tr>\n",
              "      <th>2</th>\n",
              "      <td>วัคซีนโควิด19การศึกษาระยะสุดท้ายแบบสมบูรณ์คงจะ...</td>\n",
              "      <td>วัคซีนโควิดการศึกษาระยะสุดท้ายแบบสมบูรณ์คงจะมี...</td>\n",
              "      <td>วัคซีน,โควิดการศึกษา,สุดท้าย,สมบูรณ์,มีผล,ประก...</td>\n",
              "      <td>วัคซีน,โควิด,การศึกษา,สุดท้าย,สมบูรณ์,มีผล,ประ...</td>\n",
              "      <td>วัคซีน,โค,วิด,ศึกษา,สุดท้าย,สมบูรณ์,ประกาศ,เดื...</td>\n",
              "    </tr>\n",
              "    <tr>\n",
              "      <th>3</th>\n",
              "      <td>Facebookเตรียมบริจาคเงิน40ล้านดอลลาร์ฯช่วยธุรก...</td>\n",
              "      <td>เตรียมบริจาคเงินล้านดอลลาร์ฯช่วยธุรกิจคนผิวดำจ...</td>\n",
              "      <td>เตรียม,บริจาค,เงิน,ล้าน,ดอลลาร์,ธุรกิจ,คนผิวดำ...</td>\n",
              "      <td>เตรียม,บริจาค,เงิน,ล้าน,ดอลลาร์,ธุรกิจ,คนผิวดำ...</td>\n",
              "      <td>เตรียม,บริจาค,เงิน,ล้าน,ดอลลาร์,ธุรกิจ,คน,ผิว,...</td>\n",
              "    </tr>\n",
              "    <tr>\n",
              "      <th>4</th>\n",
              "      <td>พม่ามีผู้ป่วยเพิ่ม1010รายสรุปผู้ป่วยทั้งหมด143...</td>\n",
              "      <td>พม่ามีผู้ป่วยเพิ่มรายสรุปผู้ป่วยทั้งหมดราย</td>\n",
              "      <td>พม่า,ผู้ป่วย,สรุป,ผู้ป่วย</td>\n",
              "      <td>พม่า,ผู้ป่วย,สรุป,ผู้ป่วย</td>\n",
              "      <td>พม่า,ป่วย,สรุป,ป่วย</td>\n",
              "    </tr>\n",
              "    <tr>\n",
              "      <th>...</th>\n",
              "      <td>...</td>\n",
              "      <td>...</td>\n",
              "      <td>...</td>\n",
              "      <td>...</td>\n",
              "      <td>...</td>\n",
              "    </tr>\n",
              "    <tr>\n",
              "      <th>2915</th>\n",
              "      <td>ประเทศไทยเชื่อผู้นำจะพาประชาชนพ้นภัยอ่านข่าวฝั...</td>\n",
              "      <td>ประเทศไทยเชื่อผู้นำจะพาประชาชนพ้นภัยอ่านข่าวฝั...</td>\n",
              "      <td>ประเทศ,ไทย,ผู้นำ,ประชาชน,พ้นภัย,อ่านข่าว,ฝันร้...</td>\n",
              "      <td>ประเทศ,ไทย,ผู้นำ,ประชาชน,พ้นภัย,อ่าน,ข่าว,ฝันร...</td>\n",
              "      <td>ประเทศไทย,ประชาชน,พ้น,ภัย,อ่าน,ข่าว,ฝัน,ร้าย,เ...</td>\n",
              "    </tr>\n",
              "    <tr>\n",
              "      <th>2916</th>\n",
              "      <td>โอ้แม่เจ้ารับมือโควิด19แล้วคุณหมอโฆษกยังต้องรั...</td>\n",
              "      <td>โอ้แม่เจ้ารับมือโควิดแล้วคุณหมอโฆษกยังต้องรับม...</td>\n",
              "      <td>โอ้,แม่เจ้า,รับมือ,โควิด,คุณหมอ,โฆษก,รับมือ,โค...</td>\n",
              "      <td>โอ้,แม่เจ้า,รับมือ,โควิด,คุณหมอ,โฆษก,รับมือ,โค...</td>\n",
              "      <td>โอ้แม่,เจ้า,รับมือ,โค,วิด,หมอ,โฆษก,รับมือ,โค,ข...</td>\n",
              "    </tr>\n",
              "    <tr>\n",
              "      <th>2917</th>\n",
              "      <td>ยิ้มทั้งวันไม่มีผู้ติดเชื้อโควิด19ไม่มีผู้เสีย...</td>\n",
              "      <td>ยิ้มทั้งวันไม่มีผู้ติดเชื้อโควิดไม่มีผู้เสียชี...</td>\n",
              "      <td>ยิ้ม,ทั้งวัน,ติดเชื้อ,โควิด,ผู้เสียชีวิต,ไทย,ป...</td>\n",
              "      <td>ยิ้ม,ทั้งวัน,ติดเชื้อ,โควิด,ผู้เสียชีวิต,ไทย,ป...</td>\n",
              "      <td>ยิ้ม,ติด,เชื้อ,โควิด,ชีวิต,ไทย,ประมาท,จีน,ญี่ป...</td>\n",
              "    </tr>\n",
              "    <tr>\n",
              "      <th>2918</th>\n",
              "      <td>โควิด19วันนี้ไทยป่วยเพิ่ม5คนรวมสะสม75คนรักษาหา...</td>\n",
              "      <td>โควิดวันนี้ไทยป่วยเพิ่มคนรวมสะสมคนรักษาหายคนรั...</td>\n",
              "      <td>โควิด,ไทย,ป่วย,คน,สะสม,คนรักษา,หาย,คนรักษา,คนฟ...</td>\n",
              "      <td>โควิด,ไทย,ป่วย,คน,สะสม,คน,รักษา,หาย,คน,รักษา,ค...</td>\n",
              "      <td>โควิด,ไทย,ป่วย,คน,สะสม,คน,รักษา,หาย,คน,รักษา,ค...</td>\n",
              "    </tr>\n",
              "    <tr>\n",
              "      <th>2919</th>\n",
              "      <td>โควิด19มุ่งไปยุโรปนายกฯเยอรมนีรับ70ของพลเมืองท...</td>\n",
              "      <td>โควิดมุ่งไปยุโรปนายกฯเยอรมนีรับของพลเมืองทั้งห...</td>\n",
              "      <td>โควิดมุ่ง,ไปยุโรปนายกฯ,เยอรมนีรับ,พลเมือง,ติดเ...</td>\n",
              "      <td>โควิด,ยุโรป,นายกฯ,เยอรมนี,พลเมือง,ติดเชื้อ,โควิด</td>\n",
              "      <td>โควิด,ยุโรป,นายก,เยอรมนี,พลเมือง,ติด,เชื้อ,โควิด</td>\n",
              "    </tr>\n",
              "  </tbody>\n",
              "</table>\n",
              "<p>2920 rows × 5 columns</p>\n",
              "</div>"
            ],
            "text/plain": [
              "                                                   TEXT  ...                                            deepcut\n",
              "0     กัปตันอเมริกานำทัพด่าหลังทรัมป์บอกประชาชนว่าไม...  ...  กัปตัน,อเมริกา,ทัพ,ด่า,ทรัมป์,ประชาชน,กลัว,ตัว...\n",
              "1     RSVและโรคทางเดินหายใจในช่วงที่มีการระบาดของใหม...  ...                       โรค,เดิน,หายใจ,ระบาด,ป้องกัน\n",
              "2     วัคซีนโควิด19การศึกษาระยะสุดท้ายแบบสมบูรณ์คงจะ...  ...  วัคซีน,โค,วิด,ศึกษา,สุดท้าย,สมบูรณ์,ประกาศ,เดื...\n",
              "3     Facebookเตรียมบริจาคเงิน40ล้านดอลลาร์ฯช่วยธุรก...  ...  เตรียม,บริจาค,เงิน,ล้าน,ดอลลาร์,ธุรกิจ,คน,ผิว,...\n",
              "4     พม่ามีผู้ป่วยเพิ่ม1010รายสรุปผู้ป่วยทั้งหมด143...  ...                                พม่า,ป่วย,สรุป,ป่วย\n",
              "...                                                 ...  ...                                                ...\n",
              "2915  ประเทศไทยเชื่อผู้นำจะพาประชาชนพ้นภัยอ่านข่าวฝั...  ...  ประเทศไทย,ประชาชน,พ้น,ภัย,อ่าน,ข่าว,ฝัน,ร้าย,เ...\n",
              "2916  โอ้แม่เจ้ารับมือโควิด19แล้วคุณหมอโฆษกยังต้องรั...  ...  โอ้แม่,เจ้า,รับมือ,โค,วิด,หมอ,โฆษก,รับมือ,โค,ข...\n",
              "2917  ยิ้มทั้งวันไม่มีผู้ติดเชื้อโควิด19ไม่มีผู้เสีย...  ...  ยิ้ม,ติด,เชื้อ,โควิด,ชีวิต,ไทย,ประมาท,จีน,ญี่ป...\n",
              "2918  โควิด19วันนี้ไทยป่วยเพิ่ม5คนรวมสะสม75คนรักษาหา...  ...  โควิด,ไทย,ป่วย,คน,สะสม,คน,รักษา,หาย,คน,รักษา,ค...\n",
              "2919  โควิด19มุ่งไปยุโรปนายกฯเยอรมนีรับ70ของพลเมืองท...  ...   โควิด,ยุโรป,นายก,เยอรมนี,พลเมือง,ติด,เชื้อ,โควิด\n",
              "\n",
              "[2920 rows x 5 columns]"
            ]
          },
          "execution_count": 68,
          "metadata": {
            "tags": []
          },
          "output_type": "execute_result"
        }
      ],
      "source": [
        "df['deepcut'] = new_deepcut\n",
        "df"
      ]
    },
    {
      "cell_type": "markdown",
      "metadata": {
        "id": "LoOz8shs-T-L"
      },
      "source": [
        "### longest"
      ]
    },
    {
      "cell_type": "code",
      "execution_count": null,
      "metadata": {
        "colab": {
          "base_uri": "https://localhost:8080/",
          "height": 359
        },
        "id": "79DJNEH5-M-0",
        "outputId": "63ac14da-c145-4cea-cac3-91e07eb30feb"
      },
      "outputs": [
        {
          "data": {
            "text/html": [
              "<div>\n",
              "<style scoped>\n",
              "    .dataframe tbody tr th:only-of-type {\n",
              "        vertical-align: middle;\n",
              "    }\n",
              "\n",
              "    .dataframe tbody tr th {\n",
              "        vertical-align: top;\n",
              "    }\n",
              "\n",
              "    .dataframe thead th {\n",
              "        text-align: right;\n",
              "    }\n",
              "</style>\n",
              "<table border=\"1\" class=\"dataframe\">\n",
              "  <thead>\n",
              "    <tr style=\"text-align: right;\">\n",
              "      <th></th>\n",
              "      <th>word</th>\n",
              "      <th>count</th>\n",
              "    </tr>\n",
              "  </thead>\n",
              "  <tbody>\n",
              "    <tr>\n",
              "      <th>8325</th>\n",
              "      <td>โควิด</td>\n",
              "      <td>1490</td>\n",
              "    </tr>\n",
              "    <tr>\n",
              "      <th>8299</th>\n",
              "      <td>โค</td>\n",
              "      <td>838</td>\n",
              "    </tr>\n",
              "    <tr>\n",
              "      <th>8588</th>\n",
              "      <td>โร</td>\n",
              "      <td>823</td>\n",
              "    </tr>\n",
              "    <tr>\n",
              "      <th>9033</th>\n",
              "      <td>ไวรัส</td>\n",
              "      <td>740</td>\n",
              "    </tr>\n",
              "    <tr>\n",
              "      <th>2994</th>\n",
              "      <td>นาสายพันธุ์</td>\n",
              "      <td>588</td>\n",
              "    </tr>\n",
              "    <tr>\n",
              "      <th>8911</th>\n",
              "      <td>ไทย</td>\n",
              "      <td>581</td>\n",
              "    </tr>\n",
              "    <tr>\n",
              "      <th>5464</th>\n",
              "      <td>สถานการณ์</td>\n",
              "      <td>378</td>\n",
              "    </tr>\n",
              "    <tr>\n",
              "      <th>739</th>\n",
              "      <td>คน</td>\n",
              "      <td>344</td>\n",
              "    </tr>\n",
              "    <tr>\n",
              "      <th>8052</th>\n",
              "      <td>แพร่ระบาด</td>\n",
              "      <td>329</td>\n",
              "    </tr>\n",
              "    <tr>\n",
              "      <th>2170</th>\n",
              "      <td>ติดเชื้อ</td>\n",
              "      <td>299</td>\n",
              "    </tr>\n",
              "  </tbody>\n",
              "</table>\n",
              "</div>"
            ],
            "text/plain": [
              "             word  count\n",
              "8325        โควิด   1490\n",
              "8299           โค    838\n",
              "8588           โร    823\n",
              "9033        ไวรัส    740\n",
              "2994  นาสายพันธุ์    588\n",
              "8911          ไทย    581\n",
              "5464    สถานการณ์    378\n",
              "739            คน    344\n",
              "8052    แพร่ระบาด    329\n",
              "2170     ติดเชื้อ    299"
            ]
          },
          "execution_count": 69,
          "metadata": {
            "tags": []
          },
          "output_type": "execute_result"
        }
      ],
      "source": [
        "def cleanText(text):\n",
        "    text = str(text)\n",
        "    text = re.sub('[^ก-๙]','',text)\n",
        "    stop_word = list(thai_stopwords())\n",
        "    sentence = word_tokenize(text, engine=\"longest\")\n",
        "    # sentence = word_tokenize(text)\n",
        "    result = [word for word in sentence if word not in stop_word and \" \" not in word]\n",
        "    return \",\".join(result)\n",
        "\n",
        "def tokenize(d):  \n",
        "    result = d.split(\",\")\n",
        "    result = list(filter(None, result))\n",
        "    return result\n",
        "\n",
        "new_longest = []\n",
        "for txt in df['cleaning']:\n",
        "    new_longest.append(cleanText(txt))\n",
        "\n",
        "\n",
        "vectorizer = CountVectorizer(tokenizer=tokenize)\n",
        "transformed_data = vectorizer.fit_transform(new_text)\n",
        "count_data = zip(vectorizer.get_feature_names(), np.ravel(transformed_data.sum(axis=0)))\n",
        "keyword_df = pd.DataFrame(columns = ['word', 'count'])\n",
        "keyword_df['word'] = vectorizer.get_feature_names()\n",
        "keyword_df['count'] = np.ravel(transformed_data.sum(axis=0))   \n",
        "keyword_df.sort_values(by=['count'], ascending=False).head(10)"
      ]
    },
    {
      "cell_type": "code",
      "execution_count": null,
      "metadata": {
        "colab": {
          "base_uri": "https://localhost:8080/",
          "height": 1000
        },
        "id": "1ISUmaan-TQn",
        "outputId": "fce33686-171f-48ca-f81b-9da3c6fc30da"
      },
      "outputs": [
        {
          "data": {
            "text/html": [
              "<div>\n",
              "<style scoped>\n",
              "    .dataframe tbody tr th:only-of-type {\n",
              "        vertical-align: middle;\n",
              "    }\n",
              "\n",
              "    .dataframe tbody tr th {\n",
              "        vertical-align: top;\n",
              "    }\n",
              "\n",
              "    .dataframe thead th {\n",
              "        text-align: right;\n",
              "    }\n",
              "</style>\n",
              "<table border=\"1\" class=\"dataframe\">\n",
              "  <thead>\n",
              "    <tr style=\"text-align: right;\">\n",
              "      <th></th>\n",
              "      <th>TEXT</th>\n",
              "      <th>cleaning</th>\n",
              "      <th>multi_cut</th>\n",
              "      <th>new_newmm</th>\n",
              "      <th>deepcut</th>\n",
              "      <th>longest</th>\n",
              "    </tr>\n",
              "  </thead>\n",
              "  <tbody>\n",
              "    <tr>\n",
              "      <th>0</th>\n",
              "      <td>กัปตันอเมริกานำทัพด่าหลังทรัมป์บอกประชาชนว่าไม...</td>\n",
              "      <td>กัปตันอเมริกานำทัพด่าหลังทรัมป์บอกประชาชนว่าไม...</td>\n",
              "      <td>กัปตัน,อเมริกา,ทัพ,ด่า,ทรัมป์,ประชาชน,ไม่ต้องก...</td>\n",
              "      <td>กัปตัน,อเมริกา,ทัพ,ด่า,ทรัมป์,ประชาชน,ไม่ต้อง,...</td>\n",
              "      <td>กัปตัน,อเมริกา,ทัพ,ด่า,ทรัมป์,ประชาชน,กลัว,ตัว...</td>\n",
              "      <td>กัปตัน,อเมริกา,ทัพ,ด่า,ทรัมป์,ประชาชน,ไม่ต้อง,...</td>\n",
              "    </tr>\n",
              "    <tr>\n",
              "      <th>1</th>\n",
              "      <td>RSVและโรคทางเดินหายใจในช่วงที่มีการระบาดของใหม...</td>\n",
              "      <td>และโรคทางเดินหายใจในช่วงที่มีการระบาดของใหม่ๆม...</td>\n",
              "      <td>โรคทางเดิน,หายใจ,การระบาด,การป้องกัน</td>\n",
              "      <td>โรค,ทางเดิน,หายใจ,ระบาด,การป้องกัน</td>\n",
              "      <td>โรค,เดิน,หายใจ,ระบาด,ป้องกัน</td>\n",
              "      <td>โรค,ทางเดิน,หายใจ,ระบาด,การป้องกัน</td>\n",
              "    </tr>\n",
              "    <tr>\n",
              "      <th>2</th>\n",
              "      <td>วัคซีนโควิด19การศึกษาระยะสุดท้ายแบบสมบูรณ์คงจะ...</td>\n",
              "      <td>วัคซีนโควิดการศึกษาระยะสุดท้ายแบบสมบูรณ์คงจะมี...</td>\n",
              "      <td>วัคซีน,โควิดการศึกษา,สุดท้าย,สมบูรณ์,มีผล,ประก...</td>\n",
              "      <td>วัคซีน,โควิด,การศึกษา,สุดท้าย,สมบูรณ์,มีผล,ประ...</td>\n",
              "      <td>วัคซีน,โค,วิด,ศึกษา,สุดท้าย,สมบูรณ์,ประกาศ,เดื...</td>\n",
              "      <td>วัคซีน,โควิด,การศึกษา,สุดท้าย,สมบูรณ์,มีผล,ประ...</td>\n",
              "    </tr>\n",
              "    <tr>\n",
              "      <th>3</th>\n",
              "      <td>Facebookเตรียมบริจาคเงิน40ล้านดอลลาร์ฯช่วยธุรก...</td>\n",
              "      <td>เตรียมบริจาคเงินล้านดอลลาร์ฯช่วยธุรกิจคนผิวดำจ...</td>\n",
              "      <td>เตรียม,บริจาค,เงิน,ล้าน,ดอลลาร์,ธุรกิจ,คนผิวดำ...</td>\n",
              "      <td>เตรียม,บริจาค,เงิน,ล้าน,ดอลลาร์,ธุรกิจ,คนผิวดำ...</td>\n",
              "      <td>เตรียม,บริจาค,เงิน,ล้าน,ดอลลาร์,ธุรกิจ,คน,ผิว,...</td>\n",
              "      <td>เตรียม,บริจาค,เงิน,ล้าน,ดอลลาร์ฯ,ธุรกิจ,คนผิวด...</td>\n",
              "    </tr>\n",
              "    <tr>\n",
              "      <th>4</th>\n",
              "      <td>พม่ามีผู้ป่วยเพิ่ม1010รายสรุปผู้ป่วยทั้งหมด143...</td>\n",
              "      <td>พม่ามีผู้ป่วยเพิ่มรายสรุปผู้ป่วยทั้งหมดราย</td>\n",
              "      <td>พม่า,ผู้ป่วย,สรุป,ผู้ป่วย</td>\n",
              "      <td>พม่า,ผู้ป่วย,สรุป,ผู้ป่วย</td>\n",
              "      <td>พม่า,ป่วย,สรุป,ป่วย</td>\n",
              "      <td>พม่า,ผู้ป่วย,สรุป,ผู้ป่วย</td>\n",
              "    </tr>\n",
              "    <tr>\n",
              "      <th>...</th>\n",
              "      <td>...</td>\n",
              "      <td>...</td>\n",
              "      <td>...</td>\n",
              "      <td>...</td>\n",
              "      <td>...</td>\n",
              "      <td>...</td>\n",
              "    </tr>\n",
              "    <tr>\n",
              "      <th>2915</th>\n",
              "      <td>ประเทศไทยเชื่อผู้นำจะพาประชาชนพ้นภัยอ่านข่าวฝั...</td>\n",
              "      <td>ประเทศไทยเชื่อผู้นำจะพาประชาชนพ้นภัยอ่านข่าวฝั...</td>\n",
              "      <td>ประเทศ,ไทย,ผู้นำ,ประชาชน,พ้นภัย,อ่านข่าว,ฝันร้...</td>\n",
              "      <td>ประเทศ,ไทย,ผู้นำ,ประชาชน,พ้นภัย,อ่าน,ข่าว,ฝันร...</td>\n",
              "      <td>ประเทศไทย,ประชาชน,พ้น,ภัย,อ่าน,ข่าว,ฝัน,ร้าย,เ...</td>\n",
              "      <td>ประเทศ,ไทย,ผู้นำ,ประชาชน,พ้นภัย,อ่าน,ข่าว,ฝันร...</td>\n",
              "    </tr>\n",
              "    <tr>\n",
              "      <th>2916</th>\n",
              "      <td>โอ้แม่เจ้ารับมือโควิด19แล้วคุณหมอโฆษกยังต้องรั...</td>\n",
              "      <td>โอ้แม่เจ้ารับมือโควิดแล้วคุณหมอโฆษกยังต้องรับม...</td>\n",
              "      <td>โอ้,แม่เจ้า,รับมือ,โควิด,คุณหมอ,โฆษก,รับมือ,โค...</td>\n",
              "      <td>โอ้,แม่เจ้า,รับมือ,โควิด,คุณหมอ,โฆษก,รับมือ,โค...</td>\n",
              "      <td>โอ้แม่,เจ้า,รับมือ,โค,วิด,หมอ,โฆษก,รับมือ,โค,ข...</td>\n",
              "      <td>โอ้,แม่เจ้า,รับมือ,โควิด,คุณหมอ,โฆษก,รับมือ,โค...</td>\n",
              "    </tr>\n",
              "    <tr>\n",
              "      <th>2917</th>\n",
              "      <td>ยิ้มทั้งวันไม่มีผู้ติดเชื้อโควิด19ไม่มีผู้เสีย...</td>\n",
              "      <td>ยิ้มทั้งวันไม่มีผู้ติดเชื้อโควิดไม่มีผู้เสียชี...</td>\n",
              "      <td>ยิ้ม,ทั้งวัน,ติดเชื้อ,โควิด,ผู้เสียชีวิต,ไทย,ป...</td>\n",
              "      <td>ยิ้ม,ทั้งวัน,ติดเชื้อ,โควิด,ผู้เสียชีวิต,ไทย,ป...</td>\n",
              "      <td>ยิ้ม,ติด,เชื้อ,โควิด,ชีวิต,ไทย,ประมาท,จีน,ญี่ป...</td>\n",
              "      <td>ยิ้ม,ทั้งวัน,ติดเชื้อ,โควิด,ผู้เสียชีวิต,ไทย,ป...</td>\n",
              "    </tr>\n",
              "    <tr>\n",
              "      <th>2918</th>\n",
              "      <td>โควิด19วันนี้ไทยป่วยเพิ่ม5คนรวมสะสม75คนรักษาหา...</td>\n",
              "      <td>โควิดวันนี้ไทยป่วยเพิ่มคนรวมสะสมคนรักษาหายคนรั...</td>\n",
              "      <td>โควิด,ไทย,ป่วย,คน,สะสม,คนรักษา,หาย,คนรักษา,คนฟ...</td>\n",
              "      <td>โควิด,ไทย,ป่วย,คน,สะสม,คน,รักษา,หาย,คน,รักษา,ค...</td>\n",
              "      <td>โควิด,ไทย,ป่วย,คน,สะสม,คน,รักษา,หาย,คน,รักษา,ค...</td>\n",
              "      <td>โควิด,ไทย,ป่วย,คน,สะสม,คน,รักษา,หาย,คน,รักษา,ค...</td>\n",
              "    </tr>\n",
              "    <tr>\n",
              "      <th>2919</th>\n",
              "      <td>โควิด19มุ่งไปยุโรปนายกฯเยอรมนีรับ70ของพลเมืองท...</td>\n",
              "      <td>โควิดมุ่งไปยุโรปนายกฯเยอรมนีรับของพลเมืองทั้งห...</td>\n",
              "      <td>โควิดมุ่ง,ไปยุโรปนายกฯ,เยอรมนีรับ,พลเมือง,ติดเ...</td>\n",
              "      <td>โควิด,ยุโรป,นายกฯ,เยอรมนี,พลเมือง,ติดเชื้อ,โควิด</td>\n",
              "      <td>โควิด,ยุโรป,นายก,เยอรมนี,พลเมือง,ติด,เชื้อ,โควิด</td>\n",
              "      <td>โควิด,ยุโรป,นายกฯ,เยอรมนี,พลเมือง,ติดเชื้อ,โควิด</td>\n",
              "    </tr>\n",
              "  </tbody>\n",
              "</table>\n",
              "<p>2920 rows × 6 columns</p>\n",
              "</div>"
            ],
            "text/plain": [
              "                                                   TEXT  ...                                            longest\n",
              "0     กัปตันอเมริกานำทัพด่าหลังทรัมป์บอกประชาชนว่าไม...  ...  กัปตัน,อเมริกา,ทัพ,ด่า,ทรัมป์,ประชาชน,ไม่ต้อง,...\n",
              "1     RSVและโรคทางเดินหายใจในช่วงที่มีการระบาดของใหม...  ...                 โรค,ทางเดิน,หายใจ,ระบาด,การป้องกัน\n",
              "2     วัคซีนโควิด19การศึกษาระยะสุดท้ายแบบสมบูรณ์คงจะ...  ...  วัคซีน,โควิด,การศึกษา,สุดท้าย,สมบูรณ์,มีผล,ประ...\n",
              "3     Facebookเตรียมบริจาคเงิน40ล้านดอลลาร์ฯช่วยธุรก...  ...  เตรียม,บริจาค,เงิน,ล้าน,ดอลลาร์ฯ,ธุรกิจ,คนผิวด...\n",
              "4     พม่ามีผู้ป่วยเพิ่ม1010รายสรุปผู้ป่วยทั้งหมด143...  ...                          พม่า,ผู้ป่วย,สรุป,ผู้ป่วย\n",
              "...                                                 ...  ...                                                ...\n",
              "2915  ประเทศไทยเชื่อผู้นำจะพาประชาชนพ้นภัยอ่านข่าวฝั...  ...  ประเทศ,ไทย,ผู้นำ,ประชาชน,พ้นภัย,อ่าน,ข่าว,ฝันร...\n",
              "2916  โอ้แม่เจ้ารับมือโควิด19แล้วคุณหมอโฆษกยังต้องรั...  ...  โอ้,แม่เจ้า,รับมือ,โควิด,คุณหมอ,โฆษก,รับมือ,โค...\n",
              "2917  ยิ้มทั้งวันไม่มีผู้ติดเชื้อโควิด19ไม่มีผู้เสีย...  ...  ยิ้ม,ทั้งวัน,ติดเชื้อ,โควิด,ผู้เสียชีวิต,ไทย,ป...\n",
              "2918  โควิด19วันนี้ไทยป่วยเพิ่ม5คนรวมสะสม75คนรักษาหา...  ...  โควิด,ไทย,ป่วย,คน,สะสม,คน,รักษา,หาย,คน,รักษา,ค...\n",
              "2919  โควิด19มุ่งไปยุโรปนายกฯเยอรมนีรับ70ของพลเมืองท...  ...   โควิด,ยุโรป,นายกฯ,เยอรมนี,พลเมือง,ติดเชื้อ,โควิด\n",
              "\n",
              "[2920 rows x 6 columns]"
            ]
          },
          "execution_count": 70,
          "metadata": {
            "tags": []
          },
          "output_type": "execute_result"
        }
      ],
      "source": [
        "df['longest'] = new_longest\n",
        "df"
      ]
    },
    {
      "cell_type": "code",
      "execution_count": null,
      "metadata": {
        "id": "DNAXBRgWAvoy"
      },
      "outputs": [],
      "source": [
        "# Write file excel\n",
        "df.to_excel(\"/content/drive/MyDrive/Colab Notebooks/2.1.text_cut/export/4textcut.xlsx\")"
      ]
    },
    {
      "cell_type": "markdown",
      "metadata": {
        "id": "nIMdzCBF-MqA"
      },
      "source": []
    },
    {
      "cell_type": "markdown",
      "metadata": {
        "id": "y6aNAWcZyRmD"
      },
      "source": [
        "# 2. PyThaiNLP ตัดคำภาษาไทย"
      ]
    },
    {
      "cell_type": "markdown",
      "metadata": {
        "id": "wmgz9Rtj8kXe"
      },
      "source": [
        "https://pythainlp.github.io/tutorials/notebooks/pythainlp_get_started.html#Tokenization-and-Segmentation"
      ]
    },
    {
      "cell_type": "markdown",
      "metadata": {
        "id": "6smkBAXbyS7o"
      },
      "source": [
        "## 2.1 word_tokenize ตัดคำ Word, Sentence"
      ]
    },
    {
      "cell_type": "markdown",
      "metadata": {
        "id": "VUUX21bNyYK5"
      },
      "source": [
        "ฟังก์ชันตัดคำของ PyThaiNLP ถูกออกแบบมาให้รองรับหลายอัลกอริทึม เช่น \n",
        "\n",
        "* newmm - Dictionary-based Thai Word Segmentation using maximal matching algorithm and Thai Character Cluster (TCC). The code is based on the notebooks created by Korakot Chaovavanich.\n",
        "* longest - Dictionary-based longest-matching Thai word segmentation. Implementation based on the code from Patorn Utenpattanun.\n",
        "* multi_cut - Multi cut – Thai word segmentation with maximum matching. The original source code is from Korakot Chaovavanich.\n",
        "* deepcut - Wrapper for deepcut Thai word segmentation. deepcut is a Thai word segmentation library using Deep Neural, specifically, 1D Convolution Neural Network.\n",
        "\n",
        "โดยอัลกอริทึมใหม่ล่าสุด และเป็น Default ของ PyThaiNLP tokenize ณ ขณะนี้ คือ newmm ที่ใช้ อัลกอริทึม หา maximum matching จากใน Dictionary ที่ทำงานได้อย่างรวดเร็ว และถูกต้องพอสมควร"
      ]
    },
    {
      "cell_type": "markdown",
      "metadata": {
        "id": "OJQQHAnuyd_c"
      },
      "source": [
        "เราจะ Import sent_tokenize ที่ตัดคำจาก Space, Full stop, New line เหมือนที่ใช้ในภาษาอังกฤษ และ word_tokenize พระเอกของเรา ฟังก์ชันตัดคำภาษาไทย"
      ]
    },
    {
      "cell_type": "code",
      "execution_count": null,
      "metadata": {
        "id": "vE_9jPP6ytpx"
      },
      "outputs": [],
      "source": [
        "from pythainlp import sent_tokenize, word_tokenize"
      ]
    },
    {
      "cell_type": "code",
      "execution_count": null,
      "metadata": {
        "id": "fA-UQ40kyvvG"
      },
      "outputs": [],
      "source": [
        "text = \"โรคทางเดินหายใจ ในช่วงที่มีการระบาดของใหม่ๆมีการป้องกันกัน\""
      ]
    },
    {
      "cell_type": "code",
      "execution_count": null,
      "metadata": {
        "colab": {
          "base_uri": "https://localhost:8080/"
        },
        "id": "c0fgK_cnyyo5",
        "outputId": "48756388-6beb-4c94-b64e-880adb47a5da"
      },
      "outputs": [
        {
          "name": "stdout",
          "output_type": "stream",
          "text": [
            "newmm  : ['โรค', 'ทางเดิน', 'หายใจ', 'ใน', 'ช่วง', 'ที่', 'มี', 'การ', 'ระบาด', 'ของ', 'ใหม่', 'ๆ', 'มี', 'การป้องกัน', 'กัน']\n",
            "longest: ['โรค', 'ทางเดิน', 'หายใจ', 'ใน', 'ช่วง', 'ที่', 'มี', 'การ', 'ระบาด', 'ของ', 'ใหม่ๆ', 'มี', 'การป้องกัน', 'กัน']\n",
            "newmm (custom dictionary): ['โรคทางเดินหายใจ', 'ในช่วงที่มีการระบาดของใหม่ๆมีการป้องกันกัน']\n"
          ]
        }
      ],
      "source": [
        "from pythainlp import word_tokenize, Tokenizer\n",
        "\n",
        "text = \"โรคทางเดินหายใจในช่วงที่มีการระบาดของใหม่ๆมีการป้องกันกัน\"\n",
        "\n",
        "print(\"newmm  :\", word_tokenize(text))  # default engine is \"newmm\"\n",
        "print(\"longest:\", word_tokenize(text, engine=\"longest\"))\n",
        "\n",
        "words = [\"โรคทางเดินหายใจ\"]\n",
        "custom_tokenizer = Tokenizer(words)\n",
        "print(\"newmm (custom dictionary):\", custom_tokenizer.word_tokenize(text))"
      ]
    },
    {
      "cell_type": "code",
      "execution_count": null,
      "metadata": {
        "colab": {
          "base_uri": "https://localhost:8080/"
        },
        "id": "4ggB29090ohR",
        "outputId": "59d930d3-6235-4e18-df48-42dafebe9a0f"
      },
      "outputs": [
        {
          "name": "stdout",
          "output_type": "stream",
          "text": [
            "default (newmm):\n",
            "['โรค', 'ทางเดิน', 'หายใจ', 'ใน', 'ช่วง', 'ที่', 'มี', 'การ', 'ระบาด', 'ของ', 'ใหม่', 'ๆ', 'มี', 'การป้องกัน', 'กัน']\n",
            "\n",
            "newmm and keep_whitespace=False:\n",
            "['โรค', 'ทางเดิน', 'หายใจ', 'ใน', 'ช่วง', 'ที่', 'มี', 'การ', 'ระบาด', 'ของ', 'ใหม่', 'ๆ', 'มี', 'การป้องกัน', 'กัน']\n"
          ]
        }
      ],
      "source": [
        "print(\"default (newmm):\")\n",
        "print(word_tokenize(text))\n",
        "print(\"\\nnewmm and keep_whitespace=False:\")\n",
        "print(word_tokenize(text, keep_whitespace=False))"
      ]
    },
    {
      "cell_type": "markdown",
      "metadata": {
        "id": "S8iiSRXbyzRj"
      },
      "source": [
        "## 2.2 เปรียบเทียบตัดคำภาษาไทย ด้วยอัลกอริทึมต่าง ๆ "
      ]
    },
    {
      "cell_type": "markdown",
      "metadata": {
        "id": "WHQwXO5T-kvs"
      },
      "source": [
        "https://pythainlp.github.io/docs/2.2/api/tokenize.html#tokenization-engines"
      ]
    },
    {
      "cell_type": "code",
      "execution_count": null,
      "metadata": {
        "id": "pNBpt3vOy3e4"
      },
      "outputs": [],
      "source": [
        "text = \"โรคทางเดินหายใจในช่วงที่มีการระบาดของใหม่ๆมีการป้องกันกัน\""
      ]
    },
    {
      "cell_type": "code",
      "execution_count": null,
      "metadata": {
        "colab": {
          "base_uri": "https://localhost:8080/"
        },
        "id": "SOV_8rTuy6BS",
        "outputId": "8e37c8f6-4792-4def-d863-009e580243a5"
      },
      "outputs": [
        {
          "name": "stdout",
          "output_type": "stream",
          "text": [
            "newmm    : ['โรค', 'ทางเดิน', 'หายใจ', 'ใน', 'ช่วง', 'ที่', 'มี', 'การ', 'ระบาด', 'ของ', 'ใหม่', 'ๆ', 'มี', 'การป้องกัน', 'กัน']\n",
            "longest  : ['โรค', 'ทางเดิน', 'หายใจ', 'ใน', 'ช่วง', 'ที่', 'มี', 'การ', 'ระบาด', 'ของ', 'ใหม่ๆ', 'มี', 'การป้องกัน', 'กัน']\n",
            "multi_cut: ['โรคทางเดิน', 'หายใจ', 'ใน', 'ช่วง', 'ที่', 'มี', 'การระบาด', 'ของ', 'ใหม่', 'ๆ', 'มี', 'การป้องกัน', 'กัน']\n",
            "deepcut  : ['โรค', 'ทาง', 'เดิน', 'หายใจ', 'ใน', 'ช่วง', 'ที่', 'มี', 'การ', 'ระบาด', 'ของ', 'ใหม่', 'ๆ', 'มี', 'การ', 'ป้องกัน', 'กัน']\n"
          ]
        }
      ],
      "source": [
        "print(\"newmm    :\", word_tokenize(text))  # default engine is \"newmm\"\n",
        "print(\"longest  :\", word_tokenize(text, engine=\"longest\"))\n",
        "print(\"multi_cut:\", word_tokenize(text, engine=\"multi_cut\"))\n",
        "print(\"deepcut  :\", word_tokenize(text, engine=\"deepcut\"))"
      ]
    },
    {
      "cell_type": "markdown",
      "metadata": {
        "id": "TlDUsqut3ZrT"
      },
      "source": [
        "## 2.3 เพิ่มคำใน Dictionary ตัวสร้างคำ เพิ่ม/ลบคำ และสร้าง tokenizer\n",
        "\n",
        "https://pythainlp.github.io/tutorials/notebooks/pythainlp_get_started.html#Word\n",
        "\n",
        "ตัวสร้างคำเริ่มต้นใช้รายการคำจาก pythainlp.corpus.common.thai_words() เราสามารถรับรายการนั้น เพิ่ม/ลบคำ และสร้าง tokenizer ใหม่จากรายการที่แก้ไข\n",
        "\n",
        "Default word tokenizer use a word list from pythainlp.corpus.common.thai_words(). We can get that list, add/remove words, and create new tokenizer from the modified list.\n",
        "\n",
        "ในกรณีที่ข้อความของเรา มีคำแปลก ๆ ที่ไม่มีใน Dictionary ทั่วไป เราสามารถเพิ่มคำเหล่านั้น เข้าไปใน Dictionary ที่ใช้ตัดคำได้ดังตัวอย่างด้านล่าง\n",
        "\n",
        "หรือเราจะสร้าง Dictionary ของเราเองจาก set() ว่าง ตั้งแต่ต้นเลยก็ได้"
      ]
    },
    {
      "cell_type": "code",
      "execution_count": null,
      "metadata": {
        "colab": {
          "base_uri": "https://localhost:8080/"
        },
        "id": "oHyzzMpX1b4q",
        "outputId": "d5b413d2-96d0-46f1-b7ee-65655e6c42f4"
      },
      "outputs": [
        {
          "name": "stdout",
          "output_type": "stream",
          "text": [
            "custom dictionary : ['โรคทางเดินหายใจ', 'ใน', 'ช่วง', 'ที่', 'มี', 'การ', 'ระบาด', 'ของ', 'ใหม่', 'ๆ', 'มี', 'การป้องกัน', 'กัน']\n"
          ]
        }
      ],
      "source": [
        "from pythainlp.corpus.common import thai_words\n",
        "from pythainlp import Tokenizer\n",
        "\n",
        "text = \"โรคทางเดินหายใจในช่วงที่มีการระบาดของใหม่ๆมีการป้องกันกัน\"\n",
        "\n",
        "# print(\"default dictionary:\", word_tokenize(text))\n",
        "\n",
        "words = set(thai_words())  # thai_words() returns frozenset\n",
        "words.add(\"โรคทางเดินหายใจ\")  # Isaac\n",
        "words.add(\"ความรัก\")  # Asimov\n",
        "custom_tokenizer = Tokenizer(words)\n",
        "print(\"custom dictionary :\", custom_tokenizer.word_tokenize(text))"
      ]
    }
  ],
  "metadata": {
    "colab": {
      "collapsed_sections": [
        "L4w-Cu5OhQF9",
        "y6aNAWcZyRmD",
        "S8iiSRXbyzRj"
      ],
      "provenance": []
    },
    "kernelspec": {
      "display_name": "tf_ml",
      "language": "python",
      "name": "python3"
    },
    "language_info": {
      "codemirror_mode": {
        "name": "ipython",
        "version": 3
      },
      "file_extension": ".py",
      "mimetype": "text/x-python",
      "name": "python",
      "nbconvert_exporter": "python",
      "pygments_lexer": "ipython3",
      "version": "3.9.13"
    },
    "vscode": {
      "interpreter": {
        "hash": "dcf82d96119c0eaad73d46a06358807d9ad3f569d75914db3f0e04bae2efcc9e"
      }
    }
  },
  "nbformat": 4,
  "nbformat_minor": 0
}
